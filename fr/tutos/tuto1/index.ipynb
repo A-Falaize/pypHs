{
 "cells": [
  {
   "cell_type": "markdown",
   "metadata": {
    "collapsed": true
   },
   "source": [
    "<div id=\"toc-static\"></div>"
   ]
  },
  {
   "cell_type": "markdown",
   "metadata": {},
   "source": [
    "# Introduction\n",
    "This tutorial explains the use of the automated graph analysis method of the **pyphs** module that translates a **netlist** into a set of governing **differential-algebraic equations**. The method exactly implements **algorithm 1** of the academic reference [[1]](http://www.mdpi.com/2076-3417/6/10/273/pdf), to which the reader is referred for technical details. For an introduction to **pyphs**, see the [Getting started tutorial](/tutos/tuto0).\n",
    "\n",
    "The basics steps are\n",
    "\n",
    "1 **Instanciate a `pyphs.PortHamiltonianObject`** with *e.g.*"
   ]
  },
  {
   "cell_type": "code",
   "execution_count": 1,
   "metadata": {
    "collapsed": true
   },
   "outputs": [],
   "source": [
    "import pyphs\n",
    "phs = pyphs.PortHamiltonianObject(label='RLC', path='label')"
   ]
  },
  {
   "cell_type": "markdown",
   "metadata": {},
   "source": [
    "Notice the `path='label'` option will create the folder for all data outputs in the current working directory, with name from the `label` option (here, `'mylabel'`). This path is accessible with `phs.path`.\n",
    "\n",
    "2 **Create a *netlist file*:** The inputs of the graph analysis method are *netlists*, which are `*.net` text files (*e.g.* `mysystem.net`) where each line describes an element of the system, with \n",
    "* identification label, \n",
    "* list of connection nodes, \n",
    "* type of element, and \n",
    "* list of parameters.\n",
    "\n",
    "3 **Associate `mysystem.net` to the `pyphs.PortHamiltonianObject`** with, for a `*.net` text file located at `netlist_path/mysystem.net`:\n",
    "```python\n",
    "phs.build_from_netlist('netlist_path/mysystem.net')\n",
    "```\n",
    "That's all!\n",
    "\n",
    "The netlist creation step is detailed and illustrated on the simple resistor-coil-capacitor (RLC) circuit in the following subsections."
   ]
  },
  {
   "cell_type": "markdown",
   "metadata": {},
   "source": [
    "# Netlist's lines formating\n",
    "The `netlist files` are simple `text` files with the `.net` extension. Each line corresponds to a component taken from the `pyphs.dictionary` module. The formating of a netlist line is as follows:\n",
    "```\n",
    "dico.comp label (node1, ..., nodeN): par1=(lab1, val1) par2=lab2 par3=val3\n",
    "```\n",
    "where\n",
    "* component `comp` is a submodule from module `pyphs.dictionary.dico`,\n",
    "* `label` is the component label (avoid creativity in chosen characters),\n",
    "* the `node`'s are the labels associated with the N component's nodes (can be strings or numbers),\n",
    "* the `par`'s are parameters identifiers defined in the component,\n",
    "* the `lab`'s are new string labels for the parameters,\n",
    "* the `val`'s are numerical values for the parameters.\n",
    "\n",
    "The syntax for the parameters declaration is as follows:\n",
    "* If both a string label and a numerical value is provided (as in `par1=(lab1, val1)`), a new symbol `phs.symbols(lab1)` will be created and associated with a key of the substitutions dictionary `phs.symbs.subs`, with associated value given by `val1`.\n",
    "* If no numerical value is provided (as in `par2=lab2`), the parameter will be defined as a free-parameter in `phs.symbs.p` that must be specified for the simulations. \n",
    "* Else if no label is provided for the new component (as in `par3=val3`), the new label for the *i-th* parameter is defined as `label_pari` where `label` is the chosen component label.\n",
    "\n",
    "# Datum node\n",
    "The datum node is a special node considered as a reference for the system dynamics. To refer this node in the netlist and subsequent graph analysis, a special node label is associated. This datum label can be accessed from the `pyphs.PortHamiltonianObject` with"
   ]
  },
  {
   "cell_type": "code",
   "execution_count": 2,
   "metadata": {
    "collapsed": false
   },
   "outputs": [
    {
     "data": {
      "text/plain": [
       "'ref'"
      ]
     },
     "execution_count": 2,
     "metadata": {},
     "output_type": "execute_result"
    }
   ],
   "source": [
    "phs.graph.netlist.datum"
   ]
  },
  {
   "cell_type": "markdown",
   "metadata": {},
   "source": [
    "# Example: the RLC circuit\n",
    "The components of the graph associated with the RLC circuit from the [Getting started tutorial](/tutos/tuto0) are\n",
    "* A voltage source from **datum node** to node **A**,\n",
    "* A $1$k$\\Omega$ resistor from node **A** to node **B**,\n",
    "* A $50$mH inductor from node **B** to **C**,\n",
    "* A $2\\mu$F capacitor from node **C** to **datum node**,\n",
    "\n",
    "All these components are found in the `pyphs.dictionary.electronics` module. See the [dictionary index](/sphinx/pyphs.dictionary.html#module-pyphs.dictionary) for details.\n",
    "\n",
    "We can see the call to the electronic source component `pyphs.dictionary.electronics.Source` is\n",
    "```\n",
    "electronics.source label ('node1', 'node2'): type='type'\n",
    "```\n",
    "where the source type declared by `type` is `voltage` or `current`. For the RLC circuit, we use the port label `OUT` so that the first line of the netlist is\n",
    "```\n",
    "electronics.source OUT ('ref' ,'A'): type='voltage';\n",
    "```\n",
    "Notice the semicolon terminaison.\n",
    "\n",
    "Now, we have from the [dictionary index](/sphinx/pyphs.dictionary.html#module-pyphs.dictionary) that the call to the electronic resistor component `pyphs.dictionary.electronics.Resistor` is\n",
    "```\n",
    "electronics.resistor label ('node1', 'node2'): R=('Rlab', Rval)\n",
    "```\n",
    "where `label` is the resistor label, `'Rlab'` is the resistance parameter label  and `Rval` is the resistance parameter value (Ohms). For our RLC circuit, we use the resistor label `R1` and same for the resistance parameter label `'R1'` so that the second line of the netlist is\n",
    "```\n",
    "electronics.resistor R1 ('A', 'B'): R=('R1', 1000.0);\n",
    "```\n",
    "Accordingly, the third and fourth lines of the netlist are\n",
    "```\n",
    "electronics.inductor L1 ('B', 'C'): L=('L1', 0.05);\n",
    "electronics.capacitor C1 ('C', 'ref'): C=('C1', 2e-06);\n",
    "```\n",
    "Finaly, we create a netlist file `RLC.net` in the folder containing this notebook with the following content:\n",
    "```\n",
    "electronics.source OUT ('ref', 'A'): type='voltage';\n",
    "electronics.resistor R1 ('A', 'B'): R=('R1', 1000.0);\n",
    "electronics.inductor L1 ('B', 'C'): L=('L1', 0.05);\n",
    "electronics.capacitor C1 ('C', 'ref'): C=('C1', 2e-06);\n",
    "```"
   ]
  },
  {
   "cell_type": "markdown",
   "metadata": {},
   "source": [
    "# Automated netlist generation\n",
    "There is two reasons you want to automatize the generation of the netlis:\n",
    "1. It allows for easy management of sequential experiments (*e.g.* for which a single parameter take several values).\n",
    "2. It is more robust with respect to possible changes of the netlist formating in the future of `pyphs`. \n",
    "\n",
    "This is done by defining each component as a line of the netlist in the `pyphs.PortHamiltonianObject`. This structure is defined by the `pyphs.graphs.netlists.Netlist` class, and is accessible with"
   ]
  },
  {
   "cell_type": "code",
   "execution_count": 3,
   "metadata": {
    "collapsed": false
   },
   "outputs": [
    {
     "data": {
      "text/plain": [
       "<pyphs.graphs.netlists.Netlist instance at 0x10c439200>"
      ]
     },
     "execution_count": 3,
     "metadata": {},
     "output_type": "execute_result"
    }
   ],
   "source": [
    "phs.graph.netlist"
   ]
  },
  {
   "cell_type": "markdown",
   "metadata": {},
   "source": [
    "Each line is defined with the `phs.graph.netlist.add_line` command, which takes python dicitonary with the following structure as arguments:\n",
    "```python\n",
    "netlist_line = {'dictionary': 'dico',\n",
    "                'component': 'comp',\n",
    "                'label': 'label',\n",
    "                'nodes': ('node1', ..., 'nodeN'),\n",
    "                'arguments': {'par1': \"('lab1', val1)\",\n",
    "                              'par2': \"'lab2'\",\n",
    "                              'par3': \"val3\"\n",
    "                              }\n",
    "                }\n",
    "```\n",
    "As an example, the declaration of the RLC components to the above `phs` object is as follows. Firstly, we declare the datum label:"
   ]
  },
  {
   "cell_type": "code",
   "execution_count": 4,
   "metadata": {
    "collapsed": true
   },
   "outputs": [],
   "source": [
    "datum = phs.graph.netlist.datum"
   ]
  },
  {
   "cell_type": "markdown",
   "metadata": {},
   "source": [
    "Secondly, we define a dictionary for the voltage source:"
   ]
  },
  {
   "cell_type": "code",
   "execution_count": 5,
   "metadata": {
    "collapsed": false
   },
   "outputs": [],
   "source": [
    "source = {'dictionary': 'electronics',\n",
    "          'component': 'source',\n",
    "          'label': 'out',\n",
    "          'nodes': (datum, 'A'),\n",
    "          'arguments': {'type': \"'voltage'\"}}"
   ]
  },
  {
   "cell_type": "markdown",
   "metadata": {},
   "source": [
    "Thirdly, we include this line to the netlist of the object with:"
   ]
  },
  {
   "cell_type": "code",
   "execution_count": 6,
   "metadata": {
    "collapsed": true
   },
   "outputs": [],
   "source": [
    "phs.graph.netlist.add_line(source)"
   ]
  },
  {
   "cell_type": "markdown",
   "metadata": {},
   "source": [
    "Now, the netlist of the phs object includes a new line:"
   ]
  },
  {
   "cell_type": "code",
   "execution_count": 7,
   "metadata": {
    "collapsed": false
   },
   "outputs": [
    {
     "data": {
      "text/plain": [
       "{'arguments': [{'type': \"'voltage'\"}],\n",
       " 'component': ['source'],\n",
       " 'dictionary': ['electronics'],\n",
       " 'label': ['out'],\n",
       " 'nodes': [('ref', 'A')]}"
      ]
     },
     "execution_count": 7,
     "metadata": {},
     "output_type": "execute_result"
    }
   ],
   "source": [
    "phs.graph.netlist[:]"
   ]
  },
  {
   "cell_type": "markdown",
   "metadata": {},
   "source": [
    "We process the same for the resistor, inductor and capacitor components:"
   ]
  },
  {
   "cell_type": "code",
   "execution_count": 8,
   "metadata": {
    "collapsed": false
   },
   "outputs": [],
   "source": [
    "# resistor\n",
    "resistance = {'dictionary': 'electronics',\n",
    "              'component': 'resistor',\n",
    "              'label': 'R1',\n",
    "              'nodes': ('A', 'B'),\n",
    "              'arguments': {'R': ('R1', 1e3)}}\n",
    "phs.graph.netlist.add_line(resistance)\n",
    "\n",
    "# inductor\n",
    "inductor = {'dictionary': 'electronics',\n",
    "            'component': 'inductor',\n",
    "            'label': 'L1',\n",
    "            'nodes': ('B', 'C'),\n",
    "            'arguments': {'L': ('L1', 5e-2)}}\n",
    "phs.graph.netlist.add_line(inductor)\n",
    "\n",
    "# capacitor\n",
    "capacitor = {'dictionary': 'electronics',\n",
    "             'component': 'capacitor',\n",
    "             'label': 'C1',\n",
    "             'nodes': ('C', datum),\n",
    "             'arguments': {'C': ('C1', 2e-6)}}\n",
    "phs.graph.netlist.add_line(capacitor)"
   ]
  },
  {
   "cell_type": "markdown",
   "metadata": {},
   "source": [
    "The netlist now includes four lines:"
   ]
  },
  {
   "cell_type": "code",
   "execution_count": 9,
   "metadata": {
    "collapsed": false,
    "scrolled": true
   },
   "outputs": [
    {
     "name": "stdout",
     "output_type": "stream",
     "text": [
      "{'nodes': ('ref', 'A'), 'component': 'source', 'arguments': {'type': \"'voltage'\"}, 'dictionary': 'electronics', 'label': 'out'}\n",
      "{'nodes': ('A', 'B'), 'component': 'resistor', 'arguments': {'R': ('R1', 1000.0)}, 'dictionary': 'electronics', 'label': 'R1'}\n",
      "{'nodes': ('B', 'C'), 'component': 'inductor', 'arguments': {'L': ('L1', 0.05)}, 'dictionary': 'electronics', 'label': 'L1'}\n",
      "{'nodes': ('C', 'ref'), 'component': 'capacitor', 'arguments': {'C': ('C1', 2e-06)}, 'dictionary': 'electronics', 'label': 'C1'}\n"
     ]
    }
   ],
   "source": [
    "for line in phs.graph.netlist:\n",
    "    print line"
   ]
  },
  {
   "cell_type": "markdown",
   "metadata": {},
   "source": [
    "The netlist is written in the current working directory with:"
   ]
  },
  {
   "cell_type": "code",
   "execution_count": 10,
   "metadata": {
    "collapsed": false
   },
   "outputs": [],
   "source": [
    "phs.graph.netlist.write('RLC.net')"
   ]
  },
  {
   "cell_type": "markdown",
   "metadata": {},
   "source": [
    "This generates the following [RLC.net](/pyphs_outputs/RLC_auto/RLC.net) file. \n",
    "# Graph analysis\n",
    "The differential-algebraic equations that govern the system are obtained with the `phs.build_from_netlist` method as follows:"
   ]
  },
  {
   "cell_type": "code",
   "execution_count": 11,
   "metadata": {
    "collapsed": false
   },
   "outputs": [
    {
     "name": "stdout",
     "output_type": "stream",
     "text": [
      "\n",
      "*** Realizability analysis succeed ***\n",
      "\n"
     ]
    }
   ],
   "source": [
    "phs.build_from_netlist('RLC.net')"
   ]
  },
  {
   "cell_type": "markdown",
   "metadata": {},
   "source": [
    "Voila. \n",
    "\n",
    "Now, we can *e.g.* generate a latex description of the system with:"
   ]
  },
  {
   "cell_type": "code",
   "execution_count": 12,
   "metadata": {
    "collapsed": true
   },
   "outputs": [
    {
     "name": "stderr",
     "output_type": "stream",
     "text": [
      "/Users/Falaize/anaconda/lib/python2.7/site-packages/matplotlib/text.py:52: UnicodeWarning: Unicode equal comparison failed to convert both arguments to Unicode - interpreting them as being unequal\n",
      "  if rotation in ('horizontal', None):\n",
      "/Users/Falaize/anaconda/lib/python2.7/site-packages/matplotlib/text.py:54: UnicodeWarning: Unicode equal comparison failed to convert both arguments to Unicode - interpreting them as being unequal\n",
      "  elif rotation == 'vertical':\n"
     ]
    }
   ],
   "source": [
    "phs.texwrite()"
   ]
  },
  {
   "cell_type": "markdown",
   "metadata": {},
   "source": [
    "which generates that [RLC.tex](/pyphs_outputs/RLC_auto/RLC.tex) in the folder pointed by `phs.paths['tex']`. Compiling this file yields the following [RLC.pdf](/pyphs_outputs/RLC_auto/RLC.pdf).\n",
    "\n",
    "The elements of the system structure are accessed as follows. First, xe activate nice representations of symbolic relations with `mathjax` from `sympy.init_printing`:"
   ]
  },
  {
   "cell_type": "code",
   "execution_count": 13,
   "metadata": {
    "collapsed": false
   },
   "outputs": [],
   "source": [
    "from sympy import init_printing\n",
    "init_printing(use_latex='mathjax')"
   ]
  },
  {
   "cell_type": "markdown",
   "metadata": {},
   "source": [
    "The relevant system arguments are listed below:"
   ]
  },
  {
   "cell_type": "code",
   "execution_count": 14,
   "metadata": {
    "collapsed": false
   },
   "outputs": [
    {
     "name": "stdout",
     "output_type": "stream",
     "text": [
      "x=\n"
     ]
    },
    {
     "data": {
      "text/latex": [
       "$$\\left [ xL_{1}, \\quad xC_{1}\\right ]$$"
      ],
      "text/plain": [
       "[xL₁, xC₁]"
      ]
     },
     "execution_count": 14,
     "metadata": {},
     "output_type": "execute_result"
    }
   ],
   "source": [
    "print('x=')\n",
    "phs.symbs.x"
   ]
  },
  {
   "cell_type": "code",
   "execution_count": 15,
   "metadata": {
    "collapsed": false
   },
   "outputs": [
    {
     "name": "stdout",
     "output_type": "stream",
     "text": [
      "w=\n"
     ]
    },
    {
     "data": {
      "text/latex": [
       "$$\\left [ wR_{1}\\right ]$$"
      ],
      "text/plain": [
       "[wR₁]"
      ]
     },
     "execution_count": 15,
     "metadata": {},
     "output_type": "execute_result"
    }
   ],
   "source": [
    "print('w=')\n",
    "phs.symbs.w"
   ]
  },
  {
   "cell_type": "code",
   "execution_count": 16,
   "metadata": {
    "collapsed": false
   },
   "outputs": [
    {
     "name": "stdout",
     "output_type": "stream",
     "text": [
      "u=\n"
     ]
    },
    {
     "data": {
      "text/latex": [
       "$$\\left [ uout\\right ]$$"
      ],
      "text/plain": [
       "[uout]"
      ]
     },
     "execution_count": 16,
     "metadata": {},
     "output_type": "execute_result"
    }
   ],
   "source": [
    "print('u=')\n",
    "phs.symbs.u"
   ]
  },
  {
   "cell_type": "code",
   "execution_count": 17,
   "metadata": {
    "collapsed": false
   },
   "outputs": [
    {
     "name": "stdout",
     "output_type": "stream",
     "text": [
      "y=\n"
     ]
    },
    {
     "data": {
      "text/latex": [
       "$$\\left [ yout\\right ]$$"
      ],
      "text/plain": [
       "[yout]"
      ]
     },
     "execution_count": 17,
     "metadata": {},
     "output_type": "execute_result"
    }
   ],
   "source": [
    "print('y=')\n",
    "phs.symbs.y"
   ]
  },
  {
   "cell_type": "code",
   "execution_count": 18,
   "metadata": {
    "collapsed": false
   },
   "outputs": [
    {
     "name": "stdout",
     "output_type": "stream",
     "text": [
      "p=\n"
     ]
    },
    {
     "data": {
      "text/latex": [
       "$$\\left [ \\right ]$$"
      ],
      "text/plain": [
       "[]"
      ]
     },
     "execution_count": 18,
     "metadata": {},
     "output_type": "execute_result"
    }
   ],
   "source": [
    "print('p=')\n",
    "phs.symbs.p"
   ]
  },
  {
   "cell_type": "code",
   "execution_count": 19,
   "metadata": {
    "collapsed": false
   },
   "outputs": [
    {
     "name": "stdout",
     "output_type": "stream",
     "text": [
      "H=\n"
     ]
    },
    {
     "data": {
      "text/latex": [
       "$$\\frac{0.5 xL_{1}^{2}}{L_{1}} + \\frac{0.5 xC_{1}^{2}}{C_{1}}$$"
      ],
      "text/plain": [
       "       2          2\n",
       "0.5⋅xL₁    0.5⋅xC₁ \n",
       "──────── + ────────\n",
       "   L₁         C₁   "
      ]
     },
     "execution_count": 19,
     "metadata": {},
     "output_type": "execute_result"
    }
   ],
   "source": [
    "print('H=')\n",
    "phs.exprs.H"
   ]
  },
  {
   "cell_type": "code",
   "execution_count": 20,
   "metadata": {
    "collapsed": false
   },
   "outputs": [
    {
     "name": "stdout",
     "output_type": "stream",
     "text": [
      "z=\n"
     ]
    },
    {
     "data": {
      "text/latex": [
       "$$\\left [ R_{1} wR_{1}\\right ]$$"
      ],
      "text/plain": [
       "[R₁⋅wR₁]"
      ]
     },
     "execution_count": 20,
     "metadata": {},
     "output_type": "execute_result"
    }
   ],
   "source": [
    "print('z=')\n",
    "phs.exprs.z"
   ]
  },
  {
   "cell_type": "code",
   "execution_count": 21,
   "metadata": {
    "collapsed": false
   },
   "outputs": [
    {
     "name": "stdout",
     "output_type": "stream",
     "text": [
      "M=\n"
     ]
    },
    {
     "data": {
      "text/latex": [
       "$$\\left[\\begin{matrix}0 & -1.0 & -1.0 & -1.0\\\\1.0 & 0 & 0 & 0\\\\1.0 & 0 & 0 & 0\\\\1.0 & 0 & 0 & 0\\end{matrix}\\right]$$"
      ],
      "text/plain": [
       "⎡ 0   -1.0  -1.0  -1.0⎤\n",
       "⎢                     ⎥\n",
       "⎢1.0   0     0     0  ⎥\n",
       "⎢                     ⎥\n",
       "⎢1.0   0     0     0  ⎥\n",
       "⎢                     ⎥\n",
       "⎣1.0   0     0     0  ⎦"
      ]
     },
     "execution_count": 21,
     "metadata": {},
     "output_type": "execute_result"
    }
   ],
   "source": [
    "print('M=')\n",
    "phs.struc.M"
   ]
  },
  {
   "cell_type": "code",
   "execution_count": 22,
   "metadata": {
    "collapsed": false
   },
   "outputs": [
    {
     "name": "stdout",
     "output_type": "stream",
     "text": [
      "J=\n"
     ]
    },
    {
     "data": {
      "text/latex": [
       "$$\\left[\\begin{matrix}0 & -1.0 & -1.0 & -1.0\\\\1.0 & 0 & 0 & 0\\\\1.0 & 0 & 0 & 0\\\\1.0 & 0 & 0 & 0\\end{matrix}\\right]$$"
      ],
      "text/plain": [
       "⎡ 0   -1.0  -1.0  -1.0⎤\n",
       "⎢                     ⎥\n",
       "⎢1.0   0     0     0  ⎥\n",
       "⎢                     ⎥\n",
       "⎢1.0   0     0     0  ⎥\n",
       "⎢                     ⎥\n",
       "⎣1.0   0     0     0  ⎦"
      ]
     },
     "execution_count": 22,
     "metadata": {},
     "output_type": "execute_result"
    }
   ],
   "source": [
    "print('J=')\n",
    "phs.struc.J()"
   ]
  },
  {
   "cell_type": "code",
   "execution_count": 23,
   "metadata": {
    "collapsed": false
   },
   "outputs": [
    {
     "name": "stdout",
     "output_type": "stream",
     "text": [
      "R=\n"
     ]
    },
    {
     "data": {
      "text/latex": [
       "$$\\left[\\begin{matrix}0 & 0 & 0 & 0\\\\0 & 0 & 0 & 0\\\\0 & 0 & 0 & 0\\\\0 & 0 & 0 & 0\\end{matrix}\\right]$$"
      ],
      "text/plain": [
       "⎡0  0  0  0⎤\n",
       "⎢          ⎥\n",
       "⎢0  0  0  0⎥\n",
       "⎢          ⎥\n",
       "⎢0  0  0  0⎥\n",
       "⎢          ⎥\n",
       "⎣0  0  0  0⎦"
      ]
     },
     "execution_count": 23,
     "metadata": {},
     "output_type": "execute_result"
    }
   ],
   "source": [
    "print('R=')\n",
    "phs.struc.R()"
   ]
  },
  {
   "cell_type": "code",
   "execution_count": 24,
   "metadata": {
    "collapsed": false
   },
   "outputs": [
    {
     "name": "stdout",
     "output_type": "stream",
     "text": [
      "parameters :\n"
     ]
    },
    {
     "data": {
      "text/latex": [
       "$$\\left \\{ C_{1} : 2e-06, \\quad L_{1} : 0.05, \\quad R_{1} : 1000.0\\right \\}$$"
      ],
      "text/plain": [
       "{C₁: 2e-06, L₁: 0.05, R₁: 1000.0}"
      ]
     },
     "execution_count": 24,
     "metadata": {},
     "output_type": "execute_result"
    }
   ],
   "source": [
    "print('parameters :')\n",
    "phs.symbs.subs"
   ]
  },
  {
   "cell_type": "markdown",
   "metadata": {},
   "source": [
    "# Simulation\n",
    "The same simulation as in the [Getting started tutorial](/tutos/tuto0) is perfromed as follows:"
   ]
  },
  {
   "cell_type": "code",
   "execution_count": 25,
   "metadata": {
    "collapsed": false
   },
   "outputs": [
    {
     "name": "stdout",
     "output_type": "stream",
     "text": [
      "*** Resolution of linear subsystem succeed ***\n",
      "\n",
      "*** Simulation ***\n",
      "\n"
     ]
    },
    {
     "data": {
      "image/png": "[encoded data removed]",
      "text/plain": [
       "<matplotlib.figure.Figure at 0x1058a1910>"
      ]
     },
     "metadata": {},
     "output_type": "display_data"
    }
   ],
   "source": [
    "# Simulation options\n",
    "opts = {'fs': 48e3,  # Samplerate (Hz)\n",
    "       }\n",
    "\n",
    "# Signal parameters\n",
    "A = 100.                           # signal amplitude\n",
    "f0 = 100.                          # signal fondamental frequency\n",
    "nsin = int(5*opts['fs']/f0)                # number of time-steps\n",
    "\n",
    "# signal generator\n",
    "vout = phs.signalgenerator(which=\"sin\",\n",
    "                          n=nsin,\n",
    "                          ramp_on=True,\n",
    "                          A=A,\n",
    "                          f0=f0,\n",
    "                          fs=opts['fs'])\n",
    "\n",
    "def genu():\n",
    "    \"\"\"\n",
    "    Input sequence generator\n",
    "    \"\"\"\n",
    "    for el in vout():\n",
    "        yield [el, ]  # each call to the generator...\n",
    "                      # ... yields a list with a single element.\n",
    "\n",
    "# Init simulation\n",
    "phs.simu.init(sequ=genu(), nt=nsin, opts=opts)\n",
    "\n",
    "# Process simulation\n",
    "phs.simu.process()\n",
    "\n",
    "# Shows the plots in the notebook\n",
    "%matplotlib inline\n",
    "\n",
    "# plot power balance\n",
    "phs.plot_powerbal()"
   ]
  }
 ],
 "metadata": {
  "kernelspec": {
   "display_name": "Python 2",
   "language": "python",
   "name": "python2"
  },
  "language_info": {
   "codemirror_mode": {
    "name": "ipython",
    "version": 2
   },
   "file_extension": ".py",
   "mimetype": "text/x-python",
   "name": "python",
   "nbconvert_exporter": "python",
   "pygments_lexer": "ipython2",
   "version": "2.7.12"
  }
 },
 "nbformat": 4,
 "nbformat_minor": 0
}
