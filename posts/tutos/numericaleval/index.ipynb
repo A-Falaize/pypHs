{
 "cells": [
  {
   "cell_type": "markdown",
   "metadata": {},
   "source": [
    "In this tutorial, we cover the `pyphs.PHSNumericalEval` object for the numerical evaluation of `pyphs.PHSCore` objects. The core object from the previous tutorial on [`pyphs.PHSCore`](https://afalaize.github.io/pyphs/posts/phscore/) is used as an example.\n",
    "\n",
    "<!-- TEASER_END -->\n",
    "\n",
    "The corresponding Python script `phsnumericaleval.py` can be found in the tutorials at `\\pyphs\\tutorials\\`"
   ]
  },
  {
   "cell_type": "code",
   "execution_count": 1,
   "metadata": {
    "collapsed": true
   },
   "outputs": [],
   "source": [
    "# Support for Python 2.x and Python 3.x\n",
    "from __future__ import division, print_function, absolute_import\n",
    "\n",
    "# retrieve the pyphs.PHSCore of a nonlinear RLC from the previous tutorial\n",
    "from pyphs.tutorials.phscore import core\n",
    "\n",
    "# load the pyphs.PHSNumericalEval class in the current namespace\n",
    "from pyphs import PHSNumericalEval\n",
    "\n",
    "# instantiate a pyphs.PHSNumericalEval object associated with a pyphs.PHSCore\n",
    "evals = PHSNumericalEval(core)"
   ]
  },
  {
   "cell_type": "markdown",
   "metadata": {},
   "source": [
    "The object `evals` contains all numerical versions for all the function from the original `core`. The arguments are $\\mathbf x, \\, \\delta \\mathbf x, \\, \\mathbf w, \\, \\mathbf u, \\, \\mathbf p$, as returned by the function `core.args`:"
   ]
  },
  {
   "cell_type": "code",
   "execution_count": 2,
   "metadata": {
    "collapsed": false
   },
   "outputs": [
    {
     "data": {
      "text/plain": [
       "[xL, xC, dxL, dxC, vout]"
      ]
     },
     "execution_count": 2,
     "metadata": {},
     "output_type": "execute_result"
    }
   ],
   "source": [
    "core.args()"
   ]
  },
  {
   "cell_type": "code",
   "execution_count": 3,
   "metadata": {
    "collapsed": false
   },
   "outputs": [
    {
     "name": "stdout",
     "output_type": "stream",
     "text": [
      "H(xL, xC) = 789607.830505\n",
      "\n",
      "dxH(xL, xC) = \n",
      " [  1.00000000e-03   1.57917618e+08]\n",
      "\n",
      "z() = \n",
      " []\n",
      "\n",
      "Jxx() = \n",
      " [[ 0. -1.]\n",
      " [ 1.  0.]]\n",
      "\n",
      "Rxx(xL,) = \n",
      " [[ 100.000025    0.      ]\n",
      " [   0.          0.      ]]\n",
      "\n",
      "Vectorized (not parallel) evaluation:\n",
      "x1=[0, 1, 2], x2=[4, 5, 6]\n",
      "H(x1, x2)=[  1.26330936e+15   3.08425138e+15   6.39550366e+15]\n"
     ]
    }
   ],
   "source": [
    "# values for arguments\n",
    "x = [5e-4, 2e-2]\n",
    "dx = [5e-3, 2e-1]\n",
    "w = [5e-3, ]\n",
    "u = [1.5, ]\n",
    "\n",
    "# collect all arguments\n",
    "args = x + dx + w + u\n",
    "\n",
    "# retrieve values for arguments of the Hamiltonian function\n",
    "args_H = [args[i] for i in evals.H_inds]\n",
    "\n",
    "# numerical evaluations of the Hamiltonian function\n",
    "H = evals.H(*args_H)\n",
    "\n",
    "# print \"H(xL, xC) = 3947.84176069\"\n",
    "print('{}{} = {}'.format('H', evals.H_args, H))\n",
    "\n",
    "# Same as above for a list of PHScore expressions and matrices\n",
    "for name in ('dxH', 'z', 'Jxx', 'Rxx'):\n",
    "\n",
    "    # retrieve the function to evaluate\n",
    "    func = getattr(evals, name)\n",
    "\n",
    "    # retrieve the ordered list of symbols for arguments\n",
    "    func_args = getattr(evals, name + '_args')\n",
    "\n",
    "    # retrieve the indices of symbols for arguments in the global args vector\n",
    "    func_inds = getattr(evals, name + '_inds')\n",
    "\n",
    "    # retrieve the values for arguments\n",
    "    func_args_vals = [args[i] for i in func_inds]\n",
    "\n",
    "    # evaluate the function with arguments values\n",
    "    func_eval = func(*func_args_vals)\n",
    "\n",
    "    # print e.g. \"z() = \"\n",
    "    print('\\n{}{} = \\n'.format(name, func_args), func_eval)\n",
    "\n",
    "\n",
    "# Notice function are vectorized:\n",
    "x1, x2 = range(0, 3), range(4, 7)\n",
    "print(\"\\nVectorized (not parallel) evaluation:\\nx1={}, x2={}\".format(x1, x2))\n",
    "print(\"H(x1, x2)={}\".format(evals.H(x1, x2)))"
   ]
  }
 ],
 "metadata": {
  "kernelspec": {
   "display_name": "Python 2",
   "language": "python",
   "name": "python2"
  },
  "language_info": {
   "codemirror_mode": {
    "name": "ipython",
    "version": 2
   },
   "file_extension": ".py",
   "mimetype": "text/x-python",
   "name": "python",
   "nbconvert_exporter": "python",
   "pygments_lexer": "ipython2",
   "version": "2.7.12"
  }
 },
 "nbformat": 4,
 "nbformat_minor": 0
}
