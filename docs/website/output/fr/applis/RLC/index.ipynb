{
 "cells": [
  {
   "cell_type": "code",
   "execution_count": 2,
   "metadata": {
    "collapsed": true
   },
   "outputs": [],
   "source": [
    "import pyphs\n",
    "\n",
    "rlc = pyphs.PortHamiltonianObject(label='RLC')"
   ]
  },
  {
   "cell_type": "code",
   "execution_count": 3,
   "metadata": {
    "collapsed": false
   },
   "outputs": [],
   "source": [
    "x, par_symb = rlc.symbols(['xL', 'L'])\n",
    "par_value = 5e-3\n",
    "\n",
    "h = x/(2*par_symb)\n",
    "rlc.add_storages(x, h)\n",
    "rlc.symbs.subs.update({par_symb:par_value})"
   ]
  },
  {
   "cell_type": "code",
   "execution_count": 4,
   "metadata": {
    "collapsed": true
   },
   "outputs": [],
   "source": [
    "x, par_symb = rlc.symbols(['xC', 'C'])\n",
    "par_value = 2e-9\n",
    "\n",
    "h = x/(2*par_symb)\n",
    "rlc.add_storages(x, h)\n",
    "rlc.symbs.subs.update({par_symb:par_value})"
   ]
  },
  {
   "cell_type": "code",
   "execution_count": 5,
   "metadata": {
    "collapsed": true
   },
   "outputs": [],
   "source": [
    "w, par_symb = rlc.symbols(['wR', 'R'])\n",
    "par_value = 1e3\n",
    "\n",
    "z = par_symb*w\n",
    "rlc.add_dissipations(w, z)\n",
    "rlc.symbs.subs.update({par_symb:par_value})"
   ]
  },
  {
   "cell_type": "code",
   "execution_count": 6,
   "metadata": {
    "collapsed": false
   },
   "outputs": [],
   "source": [
    "u, y = rlc.symbols(['v', 'i'])\n",
    "rlc.add_ports(u, y)"
   ]
  },
  {
   "cell_type": "code",
   "execution_count": 13,
   "metadata": {
    "collapsed": false
   },
   "outputs": [],
   "source": [
    "import numpy\n",
    "rlc.struc.set_Mxx(numpy.array([[0, -1], [1, 0]]))\n",
    "rlc.struc.set_Mxw(numpy.array([[-1], [0]]))\n",
    "rlc.struc.set_Mxy(numpy.array([[-1], [0]]))\n",
    "rlc.struc.set_Mwx(numpy.array([[1, 0]]))\n",
    "rlc.struc.set_Myx(numpy.array([[1, 0]]))"
   ]
  },
  {
   "cell_type": "code",
   "execution_count": 14,
   "metadata": {
    "collapsed": false
   },
   "outputs": [
    {
     "data": {
      "text/plain": [
       "[xL, xC]"
      ]
     },
     "execution_count": 14,
     "metadata": {},
     "output_type": "execute_result"
    }
   ],
   "source": [
    "rlc.symbs.x"
   ]
  },
  {
   "cell_type": "code",
   "execution_count": 15,
   "metadata": {
    "collapsed": false
   },
   "outputs": [
    {
     "data": {
      "text/plain": [
       "{C: 2e-09, R: 1000.0, L: 0.005}"
      ]
     },
     "execution_count": 15,
     "metadata": {},
     "output_type": "execute_result"
    }
   ],
   "source": [
    "rlc.symbs.subs"
   ]
  },
  {
   "cell_type": "code",
   "execution_count": 16,
   "metadata": {
    "collapsed": false
   },
   "outputs": [
    {
     "data": {
      "text/plain": [
       "xL/(2*L) + xC/(2*C)"
      ]
     },
     "execution_count": 16,
     "metadata": {},
     "output_type": "execute_result"
    }
   ],
   "source": [
    "rlc.exprs.H"
   ]
  },
  {
   "cell_type": "code",
   "execution_count": 17,
   "metadata": {
    "collapsed": false
   },
   "outputs": [
    {
     "data": {
      "text/plain": [
       "Matrix([\n",
       "[  0, -1.0],\n",
       "[1.0,    0]])"
      ]
     },
     "execution_count": 17,
     "metadata": {},
     "output_type": "execute_result"
    }
   ],
   "source": [
    "rlc.struc.Jxx()"
   ]
  },
  {
   "cell_type": "code",
   "execution_count": null,
   "metadata": {
    "collapsed": true
   },
   "outputs": [],
   "source": []
  }
 ],
 "metadata": {
  "kernelspec": {
   "display_name": "Python 2",
   "language": "python",
   "name": "python2"
  },
  "language_info": {
   "codemirror_mode": {
    "name": "ipython",
    "version": 2
   },
   "file_extension": ".py",
   "mimetype": "text/x-python",
   "name": "python",
   "nbconvert_exporter": "python",
   "pygments_lexer": "ipython2",
   "version": "2.7.12"
  }
 },
 "nbformat": 4,
 "nbformat_minor": 0
}
