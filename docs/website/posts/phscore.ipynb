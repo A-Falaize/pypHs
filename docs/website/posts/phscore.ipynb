{
 "cells": [
  {
   "cell_type": "markdown",
   "metadata": {},
   "source": [
    "In this tutorial, we firstly recall the *port-Hamiltonian systems (PHS)* formalism in parallel with a description of the `pyphs.PHSCore` object. Secondly, we build the `pyphs.PHSCore` object associated with the standard serial resistor-coil-capacitor (RLC) circuit.\n",
    "<!-- TEASER_END -->"
   ]
  },
  {
   "cell_type": "markdown",
   "metadata": {},
   "source": [
    "# Core PHS structure of the RLC circuit\n",
    "\n",
    "Steps are:\n",
    "1. prepare the *governing equations*,\n",
    "2. instantiate a `pyphs.PHSCore` *object*,\n",
    "3. add the *components* (storage, dissipative and source),\n",
    "4. define the *PHS structure* matrices (serial connection),\n",
    "5. set the *physical parameters*.\n",
    "\n",
    "## 1. Governing equations\n",
    "Following the reference [[1, §2.2]](http://www.mdpi.com/2076-3417/6/10/273/pdf), the RLC circuit is described as follows:\n",
    "* $x_L$ is the coil flux so that $v_L = \\frac{\\mathrm d x_L}{\\mathrm d  t}$ is the coil voltage, \n",
    "* $x_C$ is the electric charge associated with the capacitor so that $i_C = \\frac{\\mathrm d x_C}{\\mathrm d  t}$ is the capacitor current, \n",
    "* $w_R= i_R$ is the resistor current, \n",
    "* $y=i_{\\mathrm{out}}$ is the output current, and \n",
    "* $u=v_{\\mathrm{out}}$ is the input voltage.\n",
    "\n",
    "The constitutive laws are:\n",
    "* the quadratic storage function $H(x_L, x_C)=\\frac{x_L^2}{2L}+\\frac{x_C^2}{2C},$ so that the coil current is $i_L=\\frac{\\partial H}{\\partial x_L}=\\frac{x_L}{L}$ and the capacitor voltage is $v_C=\\frac{\\partial H}{\\partial x_C}=\\frac{x_C}{C}$,\n",
    "* the linear dissipation function $z_R(w_R)= R \\,w_R = v_R$ with $v_R$ the resistor voltage. \n",
    "\n",
    "The Kirchhoff's laws for a serial connection read: \n",
    "* Kirchhoff's current law: $ v_L=-v_C-v_R-v_{\\mathrm{out}}$,\n",
    "* Kirchhoff's voltage law: $i_L = i_C = i_R = i_{\\mathrm{out}}$.\n",
    "\n",
    "This can be expressed in the *Port-Hamiltonian Systems* (PHS) formalism as:\n",
    "\n",
    "$$\\left(\\begin{array}{c}\\frac{\\mathrm d x_L}{\\mathrm d  t} \\\\ \\frac{\\mathrm d x_C}{\\mathrm d  t}\\\\ \\hline w_R\\\\ \\hline y \\end{array}\\right)=\\left(\\begin{array}{cc|c|c}\n",
    "0 & -1 & -1 & -1\\\\ \n",
    "1 & 0 & 0 & 0 \\\\ \\hline\n",
    "1 & 0 & 0 & 0 \\\\  \\hline\n",
    "1 & 0 & 0 & 0\n",
    "\\end{array}\\right)\\cdot \\left(\\begin{array}{c}\\frac{\\partial H}{\\partial x_C}\\\\ \\frac{\\partial H}{\\partial x_L}\\\\ \\hline z_R\\\\ \\hline u \\end{array}\\right) $$\n",
    "\n",
    "#### Physical parameters\n",
    "* $C=2\\times 10^{-9}$F, \n",
    "* $L=50\\times 10^{-3}$H, \n",
    "* $R = 10^3\\Omega$.\n",
    "\n",
    "## 2. Object instantiation"
   ]
  },
  {
   "cell_type": "code",
   "execution_count": 1,
   "metadata": {
    "collapsed": false
   },
   "outputs": [],
   "source": [
    "# Support for Python 2.x and Python 3.x\n",
    "from __future__ import division, print_function, absolute_import\n",
    "\n",
    "# load the pyphs.PHSCore class in the current namespace\n",
    "from pyphs import PHSCore\n",
    "\n",
    "# instantiate a pyphs.PHSCore object\n",
    "core = PHSCore()"
   ]
  },
  {
   "cell_type": "markdown",
   "metadata": {},
   "source": [
    "Now, `core` is an instance of `pyphs.PHSCore`:"
   ]
  },
  {
   "cell_type": "code",
   "execution_count": 2,
   "metadata": {
    "collapsed": false
   },
   "outputs": [
    {
     "name": "stdout",
     "output_type": "stream",
     "text": [
      "isinstance(core, PHSCore) = True\n",
      "core.x = []\n",
      "core.dims.w() = 0\n",
      "core.J() = Matrix(0, 0, [])\n",
      "core.Jxy() = Matrix(0, 0, [])\n"
     ]
    }
   ],
   "source": [
    "print(\"isinstance(core, PHSCore) = {}\".format(isinstance(core, PHSCore)))\n",
    "print(\"core.x = {}\".format(core.x))\n",
    "print(\"core.dims.w() = {}\".format(core.dims.w()))\n",
    "print(\"core.J() = {}\".format(core.J()))\n",
    "print(\"core.Jxy() = {}\".format(core.Jxy()))"
   ]
  },
  {
   "cell_type": "markdown",
   "metadata": {},
   "source": [
    "## 3. Adding the components\n",
    "### Defining symbols\n",
    "The `pyphs` package is based on the `sympy` package to provide the symbolic manipulation of PHS structures. To declare symbols, we use the `core.symbols` method. As an example, we declare below the symbols associated with the coil: \n",
    "* the state $x_L$ (magnetic flux of the coil), and \n",
    "* the parameter $L$ (coil inductance)."
   ]
  },
  {
   "cell_type": "code",
   "execution_count": 3,
   "metadata": {
    "collapsed": false
   },
   "outputs": [],
   "source": [
    "xL, L = core.symbols(['xL', 'L'])"
   ]
  },
  {
   "cell_type": "markdown",
   "metadata": {},
   "source": [
    "### Defining expressions\n",
    "Now, the variables `xL` and `L` are instances of the `sympy.Symbol` object, with the assumption that quantities are real-valued only. Then, expressions can be defined with the standard `sympy` syntax. As an example, we define below the storage function associated with the coil $H_L(x_L)=\\frac{x_L^2}{2L}$:"
   ]
  },
  {
   "cell_type": "code",
   "execution_count": 4,
   "metadata": {
    "collapsed": false
   },
   "outputs": [],
   "source": [
    "HL = xL**2/(2*L)"
   ]
  },
  {
   "cell_type": "markdown",
   "metadata": {},
   "source": [
    "### the `core.add_storages` method\n",
    "To include a storage component to a `PHSCore`, we make use of the `core.add_storages` method. As an example, the coil is added to the `core` object as follows:"
   ]
  },
  {
   "cell_type": "code",
   "execution_count": 5,
   "metadata": {
    "collapsed": false
   },
   "outputs": [],
   "source": [
    "core.add_storages(xL, HL)"
   ]
  },
  {
   "cell_type": "markdown",
   "metadata": {},
   "source": [
    "For the capacitor:\n",
    "* the state is $x_C$ (electric charge),\n",
    "* the parameter is $C$ (electric capacitance), and \n",
    "* the storage function is $H_C(x_C)=\\frac{x_C^2}{2C}$.\n",
    "\n",
    "This component is added to the `core` object as follows: "
   ]
  },
  {
   "cell_type": "code",
   "execution_count": 6,
   "metadata": {
    "collapsed": false
   },
   "outputs": [],
   "source": [
    "xC, C = core.symbols(['xC', 'C'])\n",
    "HC = xC**2/(2*C)\n",
    "core.add_storages(xC, HC)"
   ]
  },
  {
   "cell_type": "markdown",
   "metadata": {},
   "source": [
    "Now, the state of the `core` object includes both `xL` and `xC`, and the storage function is given by the sum of `HL` and `HC`:"
   ]
  },
  {
   "cell_type": "code",
   "execution_count": 7,
   "metadata": {
    "collapsed": false
   },
   "outputs": [
    {
     "name": "stdout",
     "output_type": "stream",
     "text": [
      "core.x = [xL, xC]\n",
      "core.H = xL**2/(2*L) + xC**2/(2*C)\n"
     ]
    }
   ],
   "source": [
    "print(\"core.x = {}\".format(core.x))\n",
    "print(\"core.H = {}\".format(core.H))"
   ]
  },
  {
   "cell_type": "markdown",
   "metadata": {},
   "source": [
    "Notice the same results can be obtained with a single call to `add_storages` by \n",
    "1. defining a list of states:\n",
    "```python\n",
    "x = [xL, xC]\n",
    "```\n",
    "2. defining a total storage function:\n",
    "```python\n",
    "H = HL + HC\n",
    "```\n",
    "3. calling:\n",
    "```python\n",
    "core.add_storages(x, H)\n",
    "```"
   ]
  },
  {
   "cell_type": "markdown",
   "metadata": {},
   "source": [
    "### the `core.add_dissipations` method\n",
    "To include a dissipative component to a `PHSCore`, we make use of the `core.add_dissipations` method. Recall the resistor is decribed by:\n",
    "* the dissipative variable $w_R$ (resistor current),\n",
    "* the parameter $R$ (electric resistance), and \n",
    "* the dissipation function $z_R(w_R)=R\\,w_R$.\n",
    "\n",
    "This component is added to the `core` object as follows: "
   ]
  },
  {
   "cell_type": "code",
   "execution_count": 8,
   "metadata": {
    "collapsed": false
   },
   "outputs": [],
   "source": [
    "wR, R = core.symbols(['wR', 'R'])    # define sympy symbols\n",
    "zR = R*wR                           # define sympy expression\n",
    "core.add_dissipations(wR, zR)        # add dissipation to the `core` object"
   ]
  },
  {
   "cell_type": "markdown",
   "metadata": {},
   "source": [
    "Now, the dissipative variable of the `core` object includes `wR` only:"
   ]
  },
  {
   "cell_type": "code",
   "execution_count": 9,
   "metadata": {
    "collapsed": false
   },
   "outputs": [
    {
     "data": {
      "text/plain": [
       "[wR]"
      ]
     },
     "execution_count": 9,
     "metadata": {},
     "output_type": "execute_result"
    }
   ],
   "source": [
    "core.w"
   ]
  },
  {
   "cell_type": "markdown",
   "metadata": {},
   "source": [
    "and the dissipation function is given by `zR` only:"
   ]
  },
  {
   "cell_type": "code",
   "execution_count": 10,
   "metadata": {
    "collapsed": false
   },
   "outputs": [
    {
     "data": {
      "text/plain": [
       "[R*wR]"
      ]
     },
     "execution_count": 10,
     "metadata": {},
     "output_type": "execute_result"
    }
   ],
   "source": [
    "core.z"
   ]
  },
  {
   "cell_type": "markdown",
   "metadata": {},
   "source": [
    "### the `core.add_ports` method\n",
    "To include an external port to a `PHSCore` object, we make use of the `core.add_ports` method. Below, we define the external port with input $u=v_{\\mathrm{out}}$ and output $y=i_{\\mathrm{out}}$ (notice the symbols do not reflect the actual physical meaning of $u$ and $y$):"
   ]
  },
  {
   "cell_type": "code",
   "execution_count": 11,
   "metadata": {
    "collapsed": true
   },
   "outputs": [],
   "source": [
    "u, y = core.symbols(['vout', 'iout']) # define sympy symbols\n",
    "core.add_ports(u, y)                  # add the port to the `core` object"
   ]
  },
  {
   "cell_type": "markdown",
   "metadata": {
    "collapsed": false
   },
   "source": [
    "## 4. Defining the interconnection structure\n",
    "The interconnection structure of a PHS is defined by the matrix $\\mathbf M$ structured as $$\\mathbf M = \\mathbf J- \\mathbf R,$$ where \n",
    "* the skew-symmetric matrix $\\mathbf J = \\frac{1}{2}\\left(\\mathbf M- \\mathbf M^\\intercal\\right) $ encodes the *conservative interconnection*, and \n",
    "* the symmetric positive definite matrix $\\mathbf R = \\frac{-1}{2}\\left(\\mathbf M + \\mathbf M^\\intercal\\right)$ encodes the *dissipative interconnection*.\n",
    "\n",
    "These matrices are decomposed in blocks as follows:\n",
    "$$\\mathbf M = \\left( \n",
    "\\begin{array}{lll}\n",
    "\\mathbf M_{\\mathrm{xx}} & \\mathbf M_{\\mathrm{xw}} & \\mathbf M_{\\mathrm{xy}} \\\\\n",
    "\\mathbf M_{\\mathrm{wx}} & \\mathbf M_{\\mathrm{ww}} & \\mathbf M_{\\mathrm{wy}} \\\\\n",
    "\\mathbf M_{\\mathrm{yx}} & \\mathbf M_{\\mathrm{ww}} & \\mathbf M_{\\mathrm{yy}} \\\\\n",
    "\\end{array}\\right), \n",
    "$$\n",
    "$$\n",
    "\\mathbf J = \\left( \n",
    "\\begin{array}{lll}\n",
    "\\mathbf J_{\\mathrm{xx}} & \\mathbf J_{\\mathrm{xw}} & \\mathbf J_{\\mathrm{xy}} \\\\\n",
    "\\mathbf J_{\\mathrm{wx}} & \\mathbf J_{\\mathrm{ww}} & \\mathbf J_{\\mathrm{wy}} \\\\\n",
    "\\mathbf J_{\\mathrm{yx}} & \\mathbf J_{\\mathrm{ww}} & \\mathbf J_{\\mathrm{yy}} \\\\\n",
    "\\end{array}\\right), \\quad\\mathbf R = \\left( \n",
    "\\begin{array}{lll}\n",
    "\\mathbf R_{\\mathrm{xx}} & \\mathbf R_{\\mathrm{xw}} & \\mathbf R_{\\mathrm{xy}} \\\\\n",
    "\\mathbf R_{\\mathrm{wx}} & \\mathbf R_{\\mathrm{ww}} & \\mathbf R_{\\mathrm{wy}} \\\\\n",
    "\\mathbf R_{\\mathrm{yx}} & \\mathbf R_{\\mathrm{ww}} & \\mathbf R_{\\mathrm{yy}} \\\\\n",
    "\\end{array}\\right).$$\n",
    "\n",
    "For the above description of the RLC circuit, the matrices are $$\\mathbf M = \\mathbf J = \\left(\\begin{array}{cc|c|c}\n",
    "0 & -1 & -1 & -1\\\\ \n",
    "1 & 0 & 0 & 0 \\\\ \\hline\n",
    "1 & 0 & 0 & 0 \\\\  \\hline\n",
    "1 & 0 & 0 & 0\n",
    "\\end{array}\\right),$$ \n",
    "that is, $\\mathbf R=0$. Each block of the matrix $\\mathbf J$ can be defined as a `numpy.array` as follows:"
   ]
  },
  {
   "cell_type": "code",
   "execution_count": 12,
   "metadata": {
    "collapsed": false
   },
   "outputs": [],
   "source": [
    "import numpy\n",
    "\n",
    "Jxx = numpy.array([[0, -1],\n",
    "                   [1, 0]])\n",
    "core.set_Jxx(Jxx)\n",
    "\n",
    "Jxw = numpy.array([[-1],\n",
    "                   [0]])\n",
    "core.set_Jxw(Jxw)\n",
    "\n",
    "Jxy = numpy.array([[-1],\n",
    "                   [0]])\n",
    "core.set_Jxy(Jxy)"
   ]
  },
  {
   "cell_type": "markdown",
   "metadata": {},
   "source": [
    "Then, the structure matrices are accessed as follows:"
   ]
  },
  {
   "cell_type": "code",
   "execution_count": 13,
   "metadata": {
    "collapsed": false
   },
   "outputs": [
    {
     "name": "stdout",
     "output_type": "stream",
     "text": [
      "M=\n"
     ]
    },
    {
     "data": {
      "text/plain": [
       "Matrix([\n",
       "[0, -1, -1, -1],\n",
       "[1,  0,  0,  0],\n",
       "[1,  0,  0,  0],\n",
       "[1,  0,  0,  0]])"
      ]
     },
     "execution_count": 13,
     "metadata": {},
     "output_type": "execute_result"
    }
   ],
   "source": [
    "print('M=')\n",
    "core.M"
   ]
  },
  {
   "cell_type": "code",
   "execution_count": 14,
   "metadata": {
    "collapsed": false
   },
   "outputs": [
    {
     "name": "stdout",
     "output_type": "stream",
     "text": [
      "J=\n"
     ]
    },
    {
     "data": {
      "text/plain": [
       "Matrix([\n",
       "[  0, -1.0, -1.0, -1.0],\n",
       "[1.0,    0,    0,    0],\n",
       "[1.0,    0,    0,    0],\n",
       "[1.0,    0,    0,    0]])"
      ]
     },
     "execution_count": 14,
     "metadata": {},
     "output_type": "execute_result"
    }
   ],
   "source": [
    "print('J=')\n",
    "core.J()"
   ]
  },
  {
   "cell_type": "code",
   "execution_count": 15,
   "metadata": {
    "collapsed": false
   },
   "outputs": [
    {
     "name": "stdout",
     "output_type": "stream",
     "text": [
      "Jxx=\n"
     ]
    },
    {
     "data": {
      "text/plain": [
       "Matrix([\n",
       "[  0, -1.0],\n",
       "[1.0,    0]])"
      ]
     },
     "execution_count": 15,
     "metadata": {},
     "output_type": "execute_result"
    }
   ],
   "source": [
    "print('Jxx=')\n",
    "core.Jxx()"
   ]
  },
  {
   "cell_type": "code",
   "execution_count": 16,
   "metadata": {
    "collapsed": false
   },
   "outputs": [
    {
     "name": "stdout",
     "output_type": "stream",
     "text": [
      "Jxw + Jwx.T =\n"
     ]
    },
    {
     "data": {
      "text/plain": [
       "Matrix([\n",
       "[0],\n",
       "[0]])"
      ]
     },
     "execution_count": 16,
     "metadata": {},
     "output_type": "execute_result"
    }
   ],
   "source": [
    "print('Jxw + Jwx.T =')\n",
    "core.Jxw() + core.Jwx().T"
   ]
  },
  {
   "cell_type": "code",
   "execution_count": 17,
   "metadata": {
    "collapsed": false
   },
   "outputs": [
    {
     "name": "stdout",
     "output_type": "stream",
     "text": [
      "R=\n"
     ]
    },
    {
     "data": {
      "text/plain": [
       "Matrix([\n",
       "[0, 0, 0, 0],\n",
       "[0, 0, 0, 0],\n",
       "[0, 0, 0, 0],\n",
       "[0, 0, 0, 0]])"
      ]
     },
     "execution_count": 17,
     "metadata": {},
     "output_type": "execute_result"
    }
   ],
   "source": [
    "print('R=')\n",
    "core.R()"
   ]
  },
  {
   "cell_type": "markdown",
   "metadata": {},
   "source": [
    "### The `core.build_R` method\n",
    "The resistive structure associated with linear dissipative components can be automatically derived as follows:"
   ]
  },
  {
   "cell_type": "code",
   "execution_count": 18,
   "metadata": {
    "collapsed": false
   },
   "outputs": [
    {
     "name": "stdout",
     "output_type": "stream",
     "text": [
      "Matrix([[1]])\n"
     ]
    },
    {
     "data": {
      "text/plain": [
       "Matrix([\n",
       "[1.0*R, 0, 0],\n",
       "[    0, 0, 0],\n",
       "[    0, 0, 0]])"
      ]
     },
     "execution_count": 18,
     "metadata": {},
     "output_type": "execute_result"
    }
   ],
   "source": [
    "core.build_R()\n",
    "core.R()"
   ]
  },
  {
   "cell_type": "markdown",
   "metadata": {},
   "source": [
    "## 5. Setting the physical parameters values\n",
    "The correspondence between the parameters symbols defined above (here `L`, `C` and `R`) and their actual value is stored in the python dictionary `core.subs`, with parameters symbols as the dictionary's keys and numerical values as the dictionary's values. Here, the physical parameters are\n",
    "* $L=50\\times 10^{-3}$H, \n",
    "* $C=2\\times 10^{-9}$F, \n",
    "* $R = 10^3\\Omega$.\n",
    "\n",
    "This is stored as follows:"
   ]
  },
  {
   "cell_type": "code",
   "execution_count": 19,
   "metadata": {
    "collapsed": false
   },
   "outputs": [],
   "source": [
    "L_value = 50e-3\n",
    "C_value = 2e-9\n",
    "R_value = 1e3\n",
    "\n",
    "subs = {L: L_value,\n",
    "        C: C_value,\n",
    "        R: R_value}\n",
    "\n",
    "core.subs.update(subs)"
   ]
  },
  {
   "cell_type": "markdown",
   "metadata": {},
   "source": [
    "## Bonus: Generate the $\\LaTeX$ description\n",
    "A `.tex` file containing a description of the system can now be generated with the `core.texwrite` command as follows:"
   ]
  },
  {
   "cell_type": "code",
   "execution_count": 20,
   "metadata": {
    "collapsed": true
   },
   "outputs": [],
   "source": [
    "core.texwrite(filename=None, title=None)"
   ]
  },
  {
   "cell_type": "markdown",
   "metadata": {},
   "source": [
    "A [core.tex](/pyphs_outputs/RLC/core.tex) has been generated, the compilation of which yields the following [core.pdf](/pyphs_outputs/RLC/core.pdf). A valid file name or title for the document can be specified."
   ]
  }
 ],
 "metadata": {
  "kernelspec": {
   "display_name": "Python 2",
   "language": "python",
   "name": "python2"
  },
  "language_info": {
   "codemirror_mode": {
    "name": "ipython",
    "version": 2
   },
   "file_extension": ".py",
   "mimetype": "text/x-python",
   "name": "python",
   "nbconvert_exporter": "python",
   "pygments_lexer": "ipython2",
   "version": "2.7.12"
  }
 },
 "nbformat": 4,
 "nbformat_minor": 0
}
