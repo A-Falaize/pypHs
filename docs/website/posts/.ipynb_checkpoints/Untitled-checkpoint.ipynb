{
 "cells": [
  {
   "cell_type": "markdown",
   "metadata": {},
   "source": [
    "<div id=\"toc-static\"></div>\n",
    "Here is a short demo\n",
    "<!-- TEASER_END -->"
   ]
  },
  {
   "cell_type": "code",
   "execution_count": 12,
   "metadata": {
    "collapsed": false
   },
   "outputs": [],
   "source": [
    "import pyphs\n",
    "\n",
    "# Read the 'dlc_netlist.net' and construct the associated object\n",
    "netlist = pyphs.PHSNetlist('dlc_netlist.net')\n",
    "\n",
    "# Construct the graph associated with 'netlist'\n",
    "graph = pyphs.PHSGraph(netlist)\n",
    "\n",
    "# Construct the core Port-Hamiltonian System associated with 'graph'\n",
    "core = graph.buildCore()\n",
    "\n",
    "# Numerical method for time discretization of the core Port-Hamiltonian System\n",
    "method = pyphs.PHSNumericalMethodStandard(core)\n",
    "\n",
    "# Construct evaluation associated with 'method'\n",
    "numcore = pyphs.PHSNumericalCore(method)\n",
    "\n",
    "# Export the set of C++ file for simulation\n",
    "pyphs.numcore2cpp(numcore)\n",
    "\n",
    "# Export a LaTeX description\n",
    "latex = str()\n",
    "latex += pyphs.netlist2tex(netlist)\n",
    "latex += pyphs.core2tex(core)\n",
    "pyphs.document(latex, 'DLC')"
   ]
  },
  {
   "cell_type": "code",
   "execution_count": null,
   "metadata": {
    "collapsed": true
   },
   "outputs": [],
   "source": []
  }
 ],
 "metadata": {
  "kernelspec": {
   "display_name": "Python 2",
   "language": "python",
   "name": "python2"
  },
  "language_info": {
   "codemirror_mode": {
    "name": "ipython",
    "version": 2
   },
   "file_extension": ".py",
   "mimetype": "text/x-python",
   "name": "python",
   "nbconvert_exporter": "python",
   "pygments_lexer": "ipython2",
   "version": "2.7.12"
  }
 },
 "nbformat": 4,
 "nbformat_minor": 0
}
