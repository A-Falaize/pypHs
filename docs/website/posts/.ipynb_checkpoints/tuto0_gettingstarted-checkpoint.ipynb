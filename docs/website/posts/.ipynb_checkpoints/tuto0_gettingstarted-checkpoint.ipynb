{
 "cells": [
  {
   "cell_type": "markdown",
   "metadata": {
    "collapsed": true
   },
   "source": [
    "<div id=\"toc-static\"></div>"
   ]
  },
  {
   "cell_type": "markdown",
   "metadata": {},
   "source": [
    "The basic use of the *pyphs.PortHamiltonianObject* is illustrated here with the modeling and time-domain simulation of the standard resistor-coil-capacitor (RLC) circuit.\n",
    "<!-- TEASER_END -->\n",
    "Details on the PHS modeling of the RLC circuit can be found in the academic reference [[1, §2.2]](http://www.mdpi.com/2076-3417/6/10/273/pdf)."
   ]
  },
  {
   "cell_type": "markdown",
   "metadata": {},
   "source": [
    "# System declaration\n",
    "## Governing equations\n",
    "Following the reference [[1, §2.2]](http://www.mdpi.com/2076-3417/6/10/273/pdf), the RLC circuit is described as follows:\n",
    "* $x_L$ is the coil flux so that $v_L = \\frac{\\mathrm d x_L}{\\mathrm d  t}$ is the coil voltage, \n",
    "* $x_C$ is the electric charge associated with the capacitor so that $i_C = \\frac{\\mathrm d x_C}{\\mathrm d  t}$ is the capacitor current, \n",
    "* $w_R= i_R$ is the resistor current, \n",
    "* $y=i_{\\mathrm{out}}$ is the output current, and \n",
    "* $u=v_{\\mathrm{out}}$ is the input voltage.\n",
    "\n",
    "The constitutive laws are:\n",
    "* the quadratic storage function $H(x_L, x_C)=\\frac{x_L^2}{2L}+\\frac{x_C^2}{2C},$ so that the coil current is $i_L=\\frac{\\partial H}{\\partial x_L}=\\frac{x_L}{L}$ and the capacitor voltage is $v_C=\\frac{\\partial H}{\\partial x_C}=\\frac{x_C}{C}$,\n",
    "* the linear dissipation function $z_R(w_R)= R \\,w_R = v_R$ with $v_R$ the resistor voltage. \n",
    "\n",
    "The Kirchhoff's laws for a serial connection read: \n",
    "* Kirchhoff's current law: $ v_L=-v_C-v_R-v_{\\mathrm{out}}$,\n",
    "* Kirchhoff's voltage law: $i_L = i_C = i_R = i_{\\mathrm{out}}$.\n",
    "\n",
    "This can be expressed in the *Port-Hamiltonian Systems* (PHS) formalism as:\n",
    "\n",
    "$$\\left(\\begin{array}{c}\\frac{\\mathrm d x_L}{\\mathrm d  t} \\\\ \\frac{\\mathrm d x_C}{\\mathrm d  t}\\\\ \\hline w_R\\\\ \\hline y \\end{array}\\right)=\\left(\\begin{array}{cc|c|c}\n",
    "0 & -1 & -1 & -1\\\\ \n",
    "1 & 0 & 0 & 0 \\\\ \\hline\n",
    "1 & 0 & 0 & 0 \\\\  \\hline\n",
    "1 & 0 & 0 & 0\n",
    "\\end{array}\\right)\\cdot \\left(\\begin{array}{c}\\frac{\\partial H}{\\partial x_C}\\\\ \\frac{\\partial H}{\\partial x_L}\\\\ \\hline z_R\\\\ \\hline u \\end{array}\\right) $$\n",
    "\n",
    "The physical parameters are \n",
    "* $C=2\\times 10^{-9}$F, \n",
    "* $L=50\\times 10^{-3}$H, \n",
    "* $R = 10^3\\Omega$.\n",
    "\n",
    "## PyPHS declaration\n",
    "### Import pyphs\n",
    "As any python module, we need to timport `pyphs` before using it:"
   ]
  },
  {
   "cell_type": "code",
   "execution_count": 1,
   "metadata": {
    "collapsed": true
   },
   "outputs": [],
   "source": [
    "import pyphs"
   ]
  },
  {
   "cell_type": "markdown",
   "metadata": {},
   "source": [
    "### Instantiation of a port-Hamiltonian system\n",
    "The entry point to the pyphs package is the `pyphs.PortHamiltonianObject`. Help can be obtained with\n",
    "```python\n",
    "help(pyphs.PortHamiltonianObject)\n",
    "```\n",
    "\n",
    "It is recommanded to pass the label argument at the instantation:"
   ]
  },
  {
   "cell_type": "code",
   "execution_count": 2,
   "metadata": {
    "collapsed": false
   },
   "outputs": [],
   "source": [
    "phs = pyphs.PortHamiltonianObject(label='RLC', path='MyFolder')"
   ]
  },
  {
   "cell_type": "markdown",
   "metadata": {},
   "source": [
    "Now, `phs` is an instance of `pyphs.PortHamiltonianObject`:"
   ]
  },
  {
   "cell_type": "code",
   "execution_count": 3,
   "metadata": {
    "collapsed": false
   },
   "outputs": [
    {
     "data": {
      "text/plain": [
       "<pyphs.pyphs.PortHamiltonianObject instance at 0x104c574d0>"
      ]
     },
     "execution_count": 3,
     "metadata": {},
     "output_type": "execute_result"
    }
   ],
   "source": [
    "phs"
   ]
  },
  {
   "cell_type": "markdown",
   "metadata": {},
   "source": [
    "### Adding the components\n",
    "#### Defining symbols\n",
    "The `pyphs` package is based on the `sympy` package to provide the symbolic manipulation of PHS structures. To declare symbols, we use the `phs.symbols` method. As an example, we declare below the symbols associated with the coil: \n",
    "* the state $x_L$ (magnetic flux of the coil), and \n",
    "* the parameter $L$ (coil inductance)."
   ]
  },
  {
   "cell_type": "code",
   "execution_count": 4,
   "metadata": {
    "collapsed": false
   },
   "outputs": [],
   "source": [
    "xL, L = phs.symbols(['xL', 'L'])"
   ]
  },
  {
   "cell_type": "markdown",
   "metadata": {},
   "source": [
    "#### Defining expressions\n",
    "Now, the variables `xL` and `L` are instances of the `sympy.Symbol` object, with the assumption that quantities are real-valued only. Then, expressions can be defined with the standard `sympy` syntax. As an example, we define below the storage function associated with the coil $H_L(x_L)=\\frac{x_L^2}{2L}$:"
   ]
  },
  {
   "cell_type": "code",
   "execution_count": 5,
   "metadata": {
    "collapsed": false
   },
   "outputs": [],
   "source": [
    "HL = xL**2/(2*L)"
   ]
  },
  {
   "cell_type": "markdown",
   "metadata": {},
   "source": [
    "#### the `phs.add_storages` method\n",
    "To include a storage component to a `PortHamiltonianObject`, we make use of the `phs.add_storages` method:"
   ]
  },
  {
   "cell_type": "code",
   "execution_count": 6,
   "metadata": {
    "collapsed": false
   },
   "outputs": [
    {
     "name": "stdout",
     "output_type": "stream",
     "text": [
      "Help on method add_storages in module pyphs.pyphs:\n",
      "\n",
      "add_storages(self, x, H) method of pyphs.pyphs.PortHamiltonianObject instance\n",
      "    Add a storage component with state x and energy H.\n",
      "    * State x is append to the current list of states symbols,\n",
      "    * Expression H is added to the current expression of Hamiltonian.\n",
      "    \n",
      "    Parameters\n",
      "    ----------\n",
      "    \n",
      "    x : str, symbol, or list of\n",
      "    H : sympy.Expr\n",
      "\n"
     ]
    }
   ],
   "source": [
    "help(phs.add_storages)"
   ]
  },
  {
   "cell_type": "markdown",
   "metadata": {},
   "source": [
    "As an example, the coil is added to the `phs` object as follows:"
   ]
  },
  {
   "cell_type": "code",
   "execution_count": 7,
   "metadata": {
    "collapsed": false
   },
   "outputs": [],
   "source": [
    "phs.add_storages(xL, HL)"
   ]
  },
  {
   "cell_type": "markdown",
   "metadata": {},
   "source": [
    "For the capacitor:\n",
    "* the state is $x_C$ (electric charge),\n",
    "* the parameter is $C$ (electric capacitance), and \n",
    "* the storage function is $H_C(x_C)=\\frac{x_C^2}{2C}$.\n",
    "\n",
    "This component is added to the `phs` object as follows: "
   ]
  },
  {
   "cell_type": "code",
   "execution_count": 8,
   "metadata": {
    "collapsed": false
   },
   "outputs": [],
   "source": [
    "xC, C = phs.symbols(['xC', 'C'])\n",
    "HC = xC**2/(2*C)\n",
    "phs.add_storages(xC, HC)"
   ]
  },
  {
   "cell_type": "markdown",
   "metadata": {},
   "source": [
    "Now, the state of the `phs` object includes both `xL` and `xC`:"
   ]
  },
  {
   "cell_type": "code",
   "execution_count": 9,
   "metadata": {
    "collapsed": false
   },
   "outputs": [
    {
     "data": {
      "text/plain": [
       "[xL, xC]"
      ]
     },
     "execution_count": 9,
     "metadata": {},
     "output_type": "execute_result"
    }
   ],
   "source": [
    "phs.symbs.x"
   ]
  },
  {
   "cell_type": "markdown",
   "metadata": {},
   "source": [
    "and the storage function is given by the sum of `HL` and `HC`:"
   ]
  },
  {
   "cell_type": "code",
   "execution_count": 10,
   "metadata": {
    "collapsed": false
   },
   "outputs": [
    {
     "data": {
      "text/plain": [
       "xL**2/(2*L) + xC**2/(2*C)"
      ]
     },
     "execution_count": 10,
     "metadata": {},
     "output_type": "execute_result"
    }
   ],
   "source": [
    "phs.exprs.H"
   ]
  },
  {
   "cell_type": "markdown",
   "metadata": {},
   "source": [
    "Notice the same results can be obtained with a single call to `add_storages` by \n",
    "1. defining a list of states:\n",
    "```python\n",
    "x = [xL, xC]\n",
    "```\n",
    "2. defining a total storage function:\n",
    "```python\n",
    "H = HL + HC\n",
    "```\n",
    "3. calling:\n",
    "```python\n",
    "phs.add_storages(x, H)\n",
    "```"
   ]
  },
  {
   "cell_type": "markdown",
   "metadata": {},
   "source": [
    "#### the `phs.add_dissipations` method\n",
    "To include a dissipative component to a `PortHamiltonianObject`, we make use of the `phs.add_dissipations` method:"
   ]
  },
  {
   "cell_type": "code",
   "execution_count": 11,
   "metadata": {
    "collapsed": false
   },
   "outputs": [
    {
     "name": "stdout",
     "output_type": "stream",
     "text": [
      "Help on method add_dissipations in module pyphs.pyphs:\n",
      "\n",
      "add_dissipations(self, w, z) method of pyphs.pyphs.PortHamiltonianObject instance\n",
      "    Add a dissipative component with dissipation variable w and dissipation function z.\n",
      "    \n",
      "    Parameters\n",
      "    ----------\n",
      "    \n",
      "    w : str, symbol, or list of\n",
      "    z : sympy.Expr or list of\n",
      "\n"
     ]
    }
   ],
   "source": [
    "help(phs.add_dissipations)"
   ]
  },
  {
   "cell_type": "markdown",
   "metadata": {},
   "source": [
    "Recall the resistor is decribed by:\n",
    "* the dissipative variable $w_R$ (resistor current),\n",
    "* the parameter $R$ (electric resistance), and \n",
    "* the dissipation function $z_R(w_R)=R\\,w_R$.\n",
    "\n",
    "This component is added to the `phs` object as follows: "
   ]
  },
  {
   "cell_type": "code",
   "execution_count": 12,
   "metadata": {
    "collapsed": false
   },
   "outputs": [],
   "source": [
    "wR, R = phs.symbols(['wR', 'R'])    # define sympy symbols\n",
    "zR = R*wR                           # define sympy expression\n",
    "phs.add_dissipations(wR, zR)        # add dissipation to the `phs` object"
   ]
  },
  {
   "cell_type": "markdown",
   "metadata": {},
   "source": [
    "Now, the dissipative variable of the `rlc` object includes `wR` only:"
   ]
  },
  {
   "cell_type": "code",
   "execution_count": 13,
   "metadata": {
    "collapsed": false
   },
   "outputs": [
    {
     "data": {
      "text/plain": [
       "[wR]"
      ]
     },
     "execution_count": 13,
     "metadata": {},
     "output_type": "execute_result"
    }
   ],
   "source": [
    "phs.symbs.w"
   ]
  },
  {
   "cell_type": "markdown",
   "metadata": {},
   "source": [
    "and the dissipation function is given by `zR` only:"
   ]
  },
  {
   "cell_type": "code",
   "execution_count": 14,
   "metadata": {
    "collapsed": false
   },
   "outputs": [
    {
     "data": {
      "text/plain": [
       "[R*wR]"
      ]
     },
     "execution_count": 14,
     "metadata": {},
     "output_type": "execute_result"
    }
   ],
   "source": [
    "phs.exprs.z"
   ]
  },
  {
   "cell_type": "markdown",
   "metadata": {},
   "source": [
    "#### the `phs.add_ports` method\n",
    "To include an external port to a `PortHamiltonianObject`, we make use of the `phs.add_ports` method:"
   ]
  },
  {
   "cell_type": "code",
   "execution_count": 15,
   "metadata": {
    "collapsed": false
   },
   "outputs": [
    {
     "name": "stdout",
     "output_type": "stream",
     "text": [
      "Help on method add_ports in module pyphs.pyphs:\n",
      "\n",
      "add_ports(self, u, y) method of pyphs.pyphs.PortHamiltonianObject instance\n",
      "    Add one or several ports with input u and output y.\n",
      "    \n",
      "    Parameters\n",
      "    ----------\n",
      "    \n",
      "    u : str, symbol, or list of\n",
      "    y : str, symbol, or list of\n",
      "\n"
     ]
    }
   ],
   "source": [
    "help(phs.add_ports)"
   ]
  },
  {
   "cell_type": "markdown",
   "metadata": {},
   "source": [
    "Below, we define the external port with input $u=v_{\\mathrm{out}}$ and output $y=i_{\\mathrm{out}}$ (notice the symbols do not reflect the actual physical meaning of $u$ and $y$):"
   ]
  },
  {
   "cell_type": "code",
   "execution_count": 16,
   "metadata": {
    "collapsed": true
   },
   "outputs": [],
   "source": [
    "u, y = phs.symbols(['vout', 'iout']) # define sympy symbols\n",
    "phs.add_ports(u, y)                  # add the port to the `phs` object"
   ]
  },
  {
   "cell_type": "markdown",
   "metadata": {
    "collapsed": false
   },
   "source": [
    "### Defining the interconnection structure\n",
    "The interconnection structure of a PHS is defined by the matrix $\\mathbf M$ structured as $$\\mathbf M = \\mathbf J- \\mathbf R,$$ where \n",
    "* the skew-symmetric matrix $\\mathbf J = \\frac{1}{2}\\left(\\mathbf M- \\mathbf M^\\intercal\\right) $ encodes the *conservative interconnection*, and \n",
    "* the symmetric positive definite matrix $\\mathbf R = \\frac{-1}{2}\\left(\\mathbf M + \\mathbf M^\\intercal\\right)$ encodes the *dissipative interconnection*.\n",
    "\n",
    "These matrices are decomposed in blocks as follows:\n",
    "$$\\mathbf M = \\left( \n",
    "\\begin{array}{lll}\n",
    "\\mathbf M_{\\mathrm{xx}} & \\mathbf M_{\\mathrm{xw}} & \\mathbf M_{\\mathrm{xy}} \\\\\n",
    "\\mathbf M_{\\mathrm{wx}} & \\mathbf M_{\\mathrm{ww}} & \\mathbf M_{\\mathrm{wy}} \\\\\n",
    "\\mathbf M_{\\mathrm{yx}} & \\mathbf M_{\\mathrm{ww}} & \\mathbf M_{\\mathrm{yy}} \\\\\n",
    "\\end{array}\\right), \n",
    "$$\n",
    "$$\n",
    "\\mathbf J = \\left( \n",
    "\\begin{array}{lll}\n",
    "\\mathbf J_{\\mathrm{xx}} & \\mathbf J_{\\mathrm{xw}} & \\mathbf J_{\\mathrm{xy}} \\\\\n",
    "\\mathbf J_{\\mathrm{wx}} & \\mathbf J_{\\mathrm{ww}} & \\mathbf J_{\\mathrm{wy}} \\\\\n",
    "\\mathbf J_{\\mathrm{yx}} & \\mathbf J_{\\mathrm{ww}} & \\mathbf J_{\\mathrm{yy}} \\\\\n",
    "\\end{array}\\right), \\quad\\mathbf R = \\left( \n",
    "\\begin{array}{lll}\n",
    "\\mathbf R_{\\mathrm{xx}} & \\mathbf R_{\\mathrm{xw}} & \\mathbf R_{\\mathrm{xy}} \\\\\n",
    "\\mathbf R_{\\mathrm{wx}} & \\mathbf R_{\\mathrm{ww}} & \\mathbf R_{\\mathrm{wy}} \\\\\n",
    "\\mathbf R_{\\mathrm{yx}} & \\mathbf R_{\\mathrm{ww}} & \\mathbf R_{\\mathrm{yy}} \\\\\n",
    "\\end{array}\\right).$$\n",
    "\n",
    "For the above description of the RLC circuit, the matrices are $$\\mathbf M = \\mathbf J = \\left(\\begin{array}{cc|c|c}\n",
    "0 & -1 & -1 & -1\\\\ \n",
    "1 & 0 & 0 & 0 \\\\ \\hline\n",
    "1 & 0 & 0 & 0 \\\\  \\hline\n",
    "1 & 0 & 0 & 0\n",
    "\\end{array}\\right),$$ \n",
    "that is, $\\mathbf R=0$. Each block of the matrix $\\mathbf J$ can be defined as a `numpy.array` as follows:"
   ]
  },
  {
   "cell_type": "code",
   "execution_count": 17,
   "metadata": {
    "collapsed": false
   },
   "outputs": [],
   "source": [
    "import numpy\n",
    "\n",
    "Jxx = numpy.array([[0, -1],\n",
    "                   [1, 0]])\n",
    "phs.struc.set_Jxx(Jxx)\n",
    "\n",
    "Jxw = numpy.array([[-1],\n",
    "                   [0]])\n",
    "phs.struc.set_Jxw(Jxw)\n",
    "\n",
    "Jxy = numpy.array([[-1],\n",
    "                   [0]])\n",
    "phs.struc.set_Jxy(Jxy)"
   ]
  },
  {
   "cell_type": "markdown",
   "metadata": {},
   "source": [
    "Then, the structure matrices are accessed as follows:"
   ]
  },
  {
   "cell_type": "code",
   "execution_count": 18,
   "metadata": {
    "collapsed": false
   },
   "outputs": [
    {
     "name": "stdout",
     "output_type": "stream",
     "text": [
      "M=\n"
     ]
    },
    {
     "data": {
      "text/plain": [
       "Matrix([\n",
       "[0, -1, -1, -1],\n",
       "[1,  0,  0,  0],\n",
       "[1,  0,  0,  0],\n",
       "[1,  0,  0,  0]])"
      ]
     },
     "execution_count": 18,
     "metadata": {},
     "output_type": "execute_result"
    }
   ],
   "source": [
    "print('M=')\n",
    "phs.struc.M"
   ]
  },
  {
   "cell_type": "code",
   "execution_count": 19,
   "metadata": {
    "collapsed": false
   },
   "outputs": [
    {
     "name": "stdout",
     "output_type": "stream",
     "text": [
      "J=\n"
     ]
    },
    {
     "data": {
      "text/plain": [
       "Matrix([\n",
       "[  0, -1.0, -1.0, -1.0],\n",
       "[1.0,    0,    0,    0],\n",
       "[1.0,    0,    0,    0],\n",
       "[1.0,    0,    0,    0]])"
      ]
     },
     "execution_count": 19,
     "metadata": {},
     "output_type": "execute_result"
    }
   ],
   "source": [
    "print('J=')\n",
    "phs.struc.J()"
   ]
  },
  {
   "cell_type": "code",
   "execution_count": 20,
   "metadata": {
    "collapsed": false
   },
   "outputs": [
    {
     "name": "stdout",
     "output_type": "stream",
     "text": [
      "Jxx=\n"
     ]
    },
    {
     "data": {
      "text/plain": [
       "Matrix([\n",
       "[  0, -1.0],\n",
       "[1.0,    0]])"
      ]
     },
     "execution_count": 20,
     "metadata": {},
     "output_type": "execute_result"
    }
   ],
   "source": [
    "print('Jxx=')\n",
    "phs.struc.Jxx()"
   ]
  },
  {
   "cell_type": "code",
   "execution_count": 21,
   "metadata": {
    "collapsed": false
   },
   "outputs": [
    {
     "name": "stdout",
     "output_type": "stream",
     "text": [
      "Jxw + Jwx.T =\n"
     ]
    },
    {
     "data": {
      "text/plain": [
       "Matrix([\n",
       "[0],\n",
       "[0]])"
      ]
     },
     "execution_count": 21,
     "metadata": {},
     "output_type": "execute_result"
    }
   ],
   "source": [
    "print('Jxw + Jwx.T =')\n",
    "phs.struc.Jxw() + phs.struc.Jwx().T"
   ]
  },
  {
   "cell_type": "code",
   "execution_count": 22,
   "metadata": {
    "collapsed": false
   },
   "outputs": [
    {
     "name": "stdout",
     "output_type": "stream",
     "text": [
      "R=\n"
     ]
    },
    {
     "data": {
      "text/plain": [
       "Matrix([\n",
       "[0, 0, 0, 0],\n",
       "[0, 0, 0, 0],\n",
       "[0, 0, 0, 0],\n",
       "[0, 0, 0, 0]])"
      ]
     },
     "execution_count": 22,
     "metadata": {},
     "output_type": "execute_result"
    }
   ],
   "source": [
    "print('R=')\n",
    "phs.struc.R()"
   ]
  },
  {
   "cell_type": "markdown",
   "metadata": {},
   "source": [
    "### Setting parameters values\n",
    "The correspondence between the parameters symbols (here `L`, `C` and `R`) and their actual value is stored in the python dictionary `phs.symbs.subs`, with parameters symbols as the dictionary's keys and numerical values as the dictionary's values. Here, the physical parameters are \n",
    "* $L=50\\times 10^{-3}$H, \n",
    "* $C=2\\times 10^{-9}$F, \n",
    "* $R = 10^3\\Omega$:"
   ]
  },
  {
   "cell_type": "code",
   "execution_count": 23,
   "metadata": {
    "collapsed": false
   },
   "outputs": [],
   "source": [
    "L_value = 50e-3\n",
    "C_value = 2e-9\n",
    "R_value = 1e3\n",
    "\n",
    "subs = {L: L_value,\n",
    "        C: C_value,\n",
    "        R: R_value}\n",
    "\n",
    "phs.symbs.subs.update(subs)"
   ]
  },
  {
   "cell_type": "markdown",
   "metadata": {},
   "source": [
    "## Generate the $\\LaTeX$ description\n",
    "A `.tex` file containing a description of the system can now be generated with the `phs.texwrite` command as follows:"
   ]
  },
  {
   "cell_type": "code",
   "execution_count": 24,
   "metadata": {
    "collapsed": true
   },
   "outputs": [],
   "source": [
    "phs.texwrite()"
   ]
  },
  {
   "cell_type": "markdown",
   "metadata": {},
   "source": [
    "The `.tex` file is generated in the folder returned by\n",
    "```python\n",
    "phs.paths['tex']\n",
    "```\n",
    "which, on Mac OSX, returns something like:\n",
    "```\n",
    "/Users/bla/bla/bla/RLC/tex\n",
    "```\n",
    "In that folder, a [RLC.tex](/pyphs_outputs/RLC/RLC.tex) file is now accessible. Compiling this file yields the following [RLC.pdf](/pyphs_outputs/RLC/RLC.pdf)"
   ]
  },
  {
   "cell_type": "markdown",
   "metadata": {},
   "source": [
    "# System simulation\n",
    "The methods for the simulations are parts of the `phs.simu` module. In the sequel, simulations perform at the following sampling frequency:"
   ]
  },
  {
   "cell_type": "code",
   "execution_count": 25,
   "metadata": {
    "collapsed": true
   },
   "outputs": [],
   "source": [
    "fs = 48e3  # Samplerate (Hz)"
   ]
  },
  {
   "cell_type": "markdown",
   "metadata": {},
   "source": [
    "## Input sequence: generators\n",
    "The input to the simulations methods in the `phs.simu` module are python `generators`. In short, the elements of these structures are not loaded into memory before being accessed. In turn, the data can be accessed only once.\n",
    "\n",
    "The `phs.signalgenerator` function returns generators for a variety of signals. As an example, we choose to define the input voltage signal as follows:\n",
    "$$u(t) = v_{\\mathrm{out}}(t) = A(t)\\,\\sin(2\\pi\\,f_0/,t) $$\n",
    "with linearly increasing amplitude $A$. The associated call to `phs.signalgenerator` reads"
   ]
  },
  {
   "cell_type": "code",
   "execution_count": 26,
   "metadata": {
    "collapsed": false
   },
   "outputs": [],
   "source": [
    "A = 100.                           # signal amplitude\n",
    "f0 = 100.                          # signal fondamental frequency\n",
    "nsin = int(5*fs/f0)                # number of time-steps\n",
    "\n",
    "# signal generator\n",
    "vout = phs.signalgenerator(which=\"sin\",\n",
    "                          n=nsin,\n",
    "                          ramp_on=True,\n",
    "                          A=A,\n",
    "                          f0=f0,\n",
    "                          fs=fs)"
   ]
  },
  {
   "cell_type": "markdown",
   "metadata": {},
   "source": [
    "See `help(phs.signalgenerator)` for details. Notice `vout` is a `function` that yields a python `generator`:"
   ]
  },
  {
   "cell_type": "code",
   "execution_count": 27,
   "metadata": {
    "collapsed": false
   },
   "outputs": [
    {
     "name": "stdout",
     "output_type": "stream",
     "text": [
      "<type 'function'>\n",
      "<type 'generator'>\n"
     ]
    }
   ],
   "source": [
    "print(type(vout))\n",
    "print(type(vout()))"
   ]
  },
  {
   "cell_type": "markdown",
   "metadata": {},
   "source": [
    "Now, we need to define the **input sequence generator**, which should yield a list of *np* floats for each time-step, with *np* the number of inputs. Here, *np*=1 which corresponds to the following input sequence generator:"
   ]
  },
  {
   "cell_type": "code",
   "execution_count": 28,
   "metadata": {
    "collapsed": true
   },
   "outputs": [],
   "source": [
    "def genu():\n",
    "    \"\"\"\n",
    "    Input sequence generator\n",
    "    \"\"\"\n",
    "    for el in vout():\n",
    "        yield [el, ]  # each call to the generator...\n",
    "                      # ... yields a list with a single element."
   ]
  },
  {
   "cell_type": "markdown",
   "metadata": {},
   "source": [
    "## Initialization\n",
    "The `phs.simu` module must be initilized before running the simulations. This is done with the `phs.simu.init` command. First, we define a **minimal** dictionary of user-specified pre-processing, processing, and post-processing options:"
   ]
  },
  {
   "cell_type": "code",
   "execution_count": 29,
   "metadata": {
    "collapsed": true
   },
   "outputs": [],
   "source": [
    "opts = {'fs': fs}"
   ]
  },
  {
   "cell_type": "markdown",
   "metadata": {},
   "source": [
    "Secondly, the `phs.simu` module is initilized with"
   ]
  },
  {
   "cell_type": "code",
   "execution_count": 30,
   "metadata": {
    "collapsed": false
   },
   "outputs": [
    {
     "name": "stdout",
     "output_type": "stream",
     "text": [
      "*** Resolution of linear subsystem succeed ***\n"
     ]
    }
   ],
   "source": [
    "phs.simu.init(sequ=genu(), nt=nsin, opts=opts)"
   ]
  },
  {
   "cell_type": "markdown",
   "metadata": {},
   "source": [
    "## Processing\n",
    "The simulation can now proceed:"
   ]
  },
  {
   "cell_type": "code",
   "execution_count": 31,
   "metadata": {
    "collapsed": false
   },
   "outputs": [
    {
     "name": "stdout",
     "output_type": "stream",
     "text": [
      "\n",
      "*** Simulation ***\n",
      "\n"
     ]
    }
   ],
   "source": [
    "phs.simu.process()"
   ]
  },
  {
   "cell_type": "markdown",
   "metadata": {},
   "source": [
    "## Plots"
   ]
  },
  {
   "cell_type": "code",
   "execution_count": 32,
   "metadata": {
    "collapsed": false
   },
   "outputs": [],
   "source": [
    "# Shows the plots in the notebook\n",
    "%matplotlib inline"
   ]
  },
  {
   "cell_type": "markdown",
   "metadata": {},
   "source": [
    "The `pyphs` package includes several ploting possibilities to analyse the simulation results. As an example, the power balance can be shown with"
   ]
  },
  {
   "cell_type": "code",
   "execution_count": 33,
   "metadata": {
    "collapsed": false
   },
   "outputs": [
    {
     "data": {
      "image/png": "[encoded data removed]",
      "text/plain": [
       "<matplotlib.figure.Figure at 0x1101a1c90>"
      ]
     },
     "metadata": {},
     "output_type": "display_data"
    }
   ],
   "source": [
    "phs.plot_powerbal()"
   ]
  }
 ],
 "metadata": {
  "kernelspec": {
   "display_name": "Python 2",
   "language": "python",
   "name": "python2"
  },
  "language_info": {
   "codemirror_mode": {
    "name": "ipython",
    "version": 2
   },
   "file_extension": ".py",
   "mimetype": "text/x-python",
   "name": "python",
   "nbconvert_exporter": "python",
   "pygments_lexer": "ipython2",
   "version": "2.7.12"
  }
 },
 "nbformat": 4,
 "nbformat_minor": 0
}
