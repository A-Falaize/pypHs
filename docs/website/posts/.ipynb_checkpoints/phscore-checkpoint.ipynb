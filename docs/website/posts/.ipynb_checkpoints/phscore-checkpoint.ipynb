{
 "cells": [
  {
   "cell_type": "markdown",
   "metadata": {},
   "source": [
    "In this tutorial, we firstly recall the *port-Hamiltonian systems (PHS)* formalism in parallel with a description of the `pyphs.PHSCore` object. Secondly, we build the `pyphs.PHSCore` object associated with a nonlinear serial RLC-like circuit with a linear coil, a nonlinear capacitor, and a modulated resistor.\n",
    "<!-- TEASER_END -->"
   ]
  },
  {
   "cell_type": "markdown",
   "metadata": {},
   "source": [
    "# Core PHS structure of the modulated RLC circuit\n",
    "\n",
    "Steps are:\n",
    "1. prepare the *governing equations*,\n",
    "2. instantiate a `pyphs.PHSCore` *object*,\n",
    "3. add the *components* (storage, dissipative and source),\n",
    "4. define the *PHS structure* matrices (here the serial connection),\n",
    "5. set the *physical parameters*,\n",
    "6. change the constant resistance parameter to a parameter modulated by the state value,\n",
    "\n",
    "Finally\n",
    "\n",
    "Bonus: Generate the associated LaTex document.\n",
    "\n",
    "## 1. Governing equations\n",
    "Following the reference [[1, §2.2]](http://www.mdpi.com/2076-3417/6/10/273/pdf), the RLC circuit is described as follows:\n",
    "* $x_L$ is the coil flux so that $v_L = \\frac{\\mathrm d x_L}{\\mathrm d  t}$ is the coil voltage, \n",
    "* $x_C$ is the electric charge associated with the capacitor so that $i_C = \\frac{\\mathrm d x_C}{\\mathrm d  t}$ is the capacitor current, \n",
    "* $w_R= i_R$ is the resistor current, \n",
    "* $y=i_{\\mathrm{out}}$ is the output current, and \n",
    "* $u=v_{\\mathrm{out}}$ is the input voltage.\n",
    "\n",
    "For this tutorial, the constitutive laws are:\n",
    "* the storage function (Hamiltonian) $$H(x_L, x_C)=\\frac{x_L^2}{2L}+\\frac{x_C^2}{C} \\, \\left( \\frac{1}{2} + \\frac{C_{\\mathrm{nl}}}{4}\\,x_C^2\\right),$$ so that the (linear) coil current is $i_L=\\frac{\\partial H}{\\partial x_L}=\\frac{x_L}{L}$ and the (nonlinear) capacitor voltage is $v_C=\\frac{\\partial H}{\\partial x_C}=\\frac{1}{C}\\,\\left( x_C + C_{\\mathrm{nl}}\\,x_C^3\\right)$,\n",
    "* the linear dissipation function $z_R(w_R)= R \\,w_R = v_R$ with $v_R$ the resistor voltage. \n",
    "\n",
    "The Kirchhoff's laws for a serial connection read: \n",
    "* Kirchhoff's current law: $ v_L=-v_C-v_R-v_{\\mathrm{out}}$,\n",
    "* Kirchhoff's voltage law: $i_L = i_C = i_R = i_{\\mathrm{out}}$.\n",
    "\n",
    "This can be expressed in the *Port-Hamiltonian Systems* (PHS) formalism as:\n",
    "\n",
    "$$\\left(\\begin{array}{c}\\frac{\\mathrm d x_L}{\\mathrm d  t} \\\\ \\frac{\\mathrm d x_C}{\\mathrm d  t}\\\\ \\hline w_R\\\\ \\hline y \\end{array}\\right)=\\left(\\begin{array}{cc|c|c}\n",
    "0 & -1 & -1 & -1\\\\ \n",
    "1 & 0 & 0 & 0 \\\\ \\hline\n",
    "1 & 0 & 0 & 0 \\\\  \\hline\n",
    "1 & 0 & 0 & 0\n",
    "\\end{array}\\right)\\cdot \\left(\\begin{array}{c}\\frac{\\partial H}{\\partial x_L}\\\\ \\frac{\\partial H}{\\partial x_C}\\\\ \\hline z_R\\\\ \\hline u \\end{array}\\right) $$\n",
    "\n",
    "#### Physical parameters\n",
    "* $C=2\\times 10^{-9}$F, \n",
    "* $L=50\\times 10^{-3}$H, \n",
    "* $R = 10^3\\Omega$.\n",
    "\n",
    "## 2. Object instantiation"
   ]
  },
  {
   "cell_type": "markdown",
   "metadata": {},
   "source": [
    "First, we import some external modules:"
   ]
  },
  {
   "cell_type": "code",
   "execution_count": 1,
   "metadata": {
    "collapsed": true
   },
   "outputs": [],
   "source": [
    "# Support for Python 2.x and Python 3.x\n",
    "from __future__ import division, print_function, absolute_import\n",
    "\n",
    "# import of external packages\n",
    "import numpy  # numerical tools\n",
    "import sympy  # symbolic tools"
   ]
  },
  {
   "cell_type": "markdown",
   "metadata": {},
   "source": [
    "In this tutorial, we need only the core PHS structure implemented by the `pyphs.PHSCore` object:"
   ]
  },
  {
   "cell_type": "code",
   "execution_count": 2,
   "metadata": {
    "collapsed": true
   },
   "outputs": [],
   "source": [
    "# import of the pyphs.PHSCore class\n",
    "from pyphs import PHSCore"
   ]
  },
  {
   "cell_type": "markdown",
   "metadata": {},
   "source": [
    "The instantiation takes an optional argument `label`:"
   ]
  },
  {
   "cell_type": "code",
   "execution_count": 3,
   "metadata": {
    "collapsed": false
   },
   "outputs": [],
   "source": [
    "# instantiate a pyphs.PHSCore object\n",
    "core = PHSCore(label='my_core')"
   ]
  },
  {
   "cell_type": "markdown",
   "metadata": {},
   "source": [
    "Now, `core` is an instance of `pyphs.PHSCore`:"
   ]
  },
  {
   "cell_type": "code",
   "execution_count": 4,
   "metadata": {
    "collapsed": false
   },
   "outputs": [
    {
     "data": {
      "text/plain": [
       "True"
      ]
     },
     "execution_count": 4,
     "metadata": {},
     "output_type": "execute_result"
    }
   ],
   "source": [
    "isinstance(core, PHSCore)"
   ]
  },
  {
   "cell_type": "code",
   "execution_count": 5,
   "metadata": {
    "collapsed": false
   },
   "outputs": [
    {
     "data": {
      "text/plain": [
       "[]"
      ]
     },
     "execution_count": 5,
     "metadata": {},
     "output_type": "execute_result"
    }
   ],
   "source": [
    "core.x"
   ]
  },
  {
   "cell_type": "code",
   "execution_count": 6,
   "metadata": {
    "collapsed": false
   },
   "outputs": [
    {
     "data": {
      "text/plain": [
       "0"
      ]
     },
     "execution_count": 6,
     "metadata": {},
     "output_type": "execute_result"
    }
   ],
   "source": [
    "core.dims.w()"
   ]
  },
  {
   "cell_type": "code",
   "execution_count": 7,
   "metadata": {
    "collapsed": false
   },
   "outputs": [
    {
     "data": {
      "text/plain": [
       "Matrix(0, 0, [])"
      ]
     },
     "execution_count": 7,
     "metadata": {},
     "output_type": "execute_result"
    }
   ],
   "source": [
    "core.M"
   ]
  },
  {
   "cell_type": "markdown",
   "metadata": {},
   "source": [
    "## 3. Adding the components\n",
    "### Defining symbols\n",
    "\n",
    "The pyphs package is based on the `sympy` package to provide the symbolic manipulation of PHS structures. To declare symbols, we use the `phs.symbols` method. As an example, we declare below the symbols associated with the coil:\n",
    "\n",
    "* the state $x_L$ (magnetic flux of the coil measured in Weber), and\n",
    "* the parameter $L$ (coil inductance measured in Henry)."
   ]
  },
  {
   "cell_type": "code",
   "execution_count": 8,
   "metadata": {
    "collapsed": false
   },
   "outputs": [
    {
     "data": {
      "text/plain": [
       "xL"
      ]
     },
     "execution_count": 8,
     "metadata": {},
     "output_type": "execute_result"
    }
   ],
   "source": [
    "xL, L = core.symbols(['xL', 'L'])\n",
    "xL"
   ]
  },
  {
   "cell_type": "markdown",
   "metadata": {},
   "source": [
    "> Notice all symbols in `PyPHS` are assumed **real-valued only**. This is to alleviate complex solutions during the manipulation of expressions."
   ]
  },
  {
   "cell_type": "markdown",
   "metadata": {},
   "source": [
    "### Defining expressions\n",
    "Now, the variables `xL` and `L` are instances of the `sympy.Symbol` object, and expressions are defined with the standard `sympy` syntax. As an example, we define below the storage function associated with the coil $H_L(x_L)=\\frac{x_L^2}{2L}$:"
   ]
  },
  {
   "cell_type": "code",
   "execution_count": 9,
   "metadata": {
    "collapsed": false
   },
   "outputs": [],
   "source": [
    "HL = xL**2/(2*L)"
   ]
  },
  {
   "cell_type": "markdown",
   "metadata": {},
   "source": [
    "### the `core.add_storages` method\n",
    "To include a storage component to a `PHSCore`, we make use of the `core.add_storages` method. As an example, the coil is added to the `core` object as follows:"
   ]
  },
  {
   "cell_type": "code",
   "execution_count": 10,
   "metadata": {
    "collapsed": false
   },
   "outputs": [
    {
     "data": {
      "text/plain": [
       "[xL]"
      ]
     },
     "execution_count": 10,
     "metadata": {},
     "output_type": "execute_result"
    }
   ],
   "source": [
    "core.add_storages(xL, HL)\n",
    "core.x"
   ]
  },
  {
   "cell_type": "code",
   "execution_count": 11,
   "metadata": {
    "collapsed": false
   },
   "outputs": [
    {
     "data": {
      "text/plain": [
       "xL**2/(2*L)"
      ]
     },
     "execution_count": 11,
     "metadata": {},
     "output_type": "execute_result"
    }
   ],
   "source": [
    "core.H"
   ]
  },
  {
   "cell_type": "markdown",
   "metadata": {},
   "source": [
    "For the capacitor:\n",
    "* the state is $x_C$ (electric charge),\n",
    "* the parameters are $C$ (electric capacitance), and $C_{\\mathrm{nl}}$ (nonlinearity coefficient),\n",
    "* the storage function is $H_C(x_C)=\\frac{x_C^2}{C} \\, \\left( \\frac{1}{2} + \\frac{C_{\\mathrm{nl}}}{4}\\,x_C^2\\right)$.\n",
    "\n",
    "This component is added to the `core` object as follows: "
   ]
  },
  {
   "cell_type": "code",
   "execution_count": 12,
   "metadata": {
    "collapsed": false
   },
   "outputs": [],
   "source": [
    "xC, C, Cnl = core.symbols(['xC', 'C', 'Cnl'])   # define sympy symbols\n",
    "HC = xC**2 * (1/2. + Cnl*xC**2/4) / C           # define sympy expression\n",
    "core.add_storages(xC, HC)                       # add storage function to the `core` object"
   ]
  },
  {
   "cell_type": "markdown",
   "metadata": {},
   "source": [
    "Now, the state of the `core` object includes both `xL` and `xC`, and the storage function is given by the sum of `HL` and `HC`:"
   ]
  },
  {
   "cell_type": "code",
   "execution_count": 13,
   "metadata": {
    "collapsed": false
   },
   "outputs": [
    {
     "data": {
      "text/plain": [
       "[xL, xC]"
      ]
     },
     "execution_count": 13,
     "metadata": {},
     "output_type": "execute_result"
    }
   ],
   "source": [
    "core.x"
   ]
  },
  {
   "cell_type": "code",
   "execution_count": 14,
   "metadata": {
    "collapsed": false
   },
   "outputs": [
    {
     "data": {
      "text/plain": [
       "xL**2/(2*L) + xC**2*(Cnl*xC**2/4 + 0.5)/C"
      ]
     },
     "execution_count": 14,
     "metadata": {},
     "output_type": "execute_result"
    }
   ],
   "source": [
    "core.H"
   ]
  },
  {
   "cell_type": "markdown",
   "metadata": {},
   "source": [
    "The expression for the voltage $v_C=\\frac{\\partial H}{\\partial x_C}=\\frac{x_C}{C}\\,\\left( 1 + C_{\\mathrm{nl}}\\,x_C^2\\right)$ is obtained with"
   ]
  },
  {
   "cell_type": "code",
   "execution_count": 37,
   "metadata": {
    "collapsed": false
   },
   "outputs": [
    {
     "data": {
      "text/plain": [
       "1.0*xC*(Cnl*xC**2 + 1)/C"
      ]
     },
     "execution_count": 37,
     "metadata": {},
     "output_type": "execute_result"
    }
   ],
   "source": [
    "vC = core.H.diff(core.x[1]) # equivalent to sympy.diff(core.H, xC)\n",
    "vC.simplify()"
   ]
  },
  {
   "cell_type": "markdown",
   "metadata": {},
   "source": [
    "Notice the same results can be obtained with a single call to `add_storages` by \n",
    "1. defining a list of states:\n",
    "```python\n",
    "x = [xL, xC]\n",
    "```\n",
    "2. defining a total storage function:\n",
    "```python\n",
    "H = HL + HC\n",
    "```\n",
    "3. calling:\n",
    "```python\n",
    "core.add_storages(x, H)\n",
    "```"
   ]
  },
  {
   "cell_type": "markdown",
   "metadata": {},
   "source": [
    "### the `core.add_dissipations` method\n",
    "To include a dissipative component to a `PHSCore`, we make use of the `core.add_dissipations` method. Recall the resistor is decribed by:\n",
    "* the dissipative variable $w_R$ (resistor current),\n",
    "* the parameter $R$ (electric resistance), and \n",
    "* the dissipation function $z_R(w_R)=R\\,w_R$.\n",
    "\n",
    "This component is added to the `core` object as follows: "
   ]
  },
  {
   "cell_type": "code",
   "execution_count": 17,
   "metadata": {
    "collapsed": false
   },
   "outputs": [],
   "source": [
    "wR, R = core.symbols(['wR', 'R'])    # define sympy symbols\n",
    "zR = R*wR                           # define sympy expression\n",
    "core.add_dissipations(wR, zR)        # add dissipation to the `core` object"
   ]
  },
  {
   "cell_type": "markdown",
   "metadata": {},
   "source": [
    "Now, the dissipative variable of the `core` object includes `wR` only:"
   ]
  },
  {
   "cell_type": "code",
   "execution_count": 18,
   "metadata": {
    "collapsed": false
   },
   "outputs": [
    {
     "data": {
      "text/plain": [
       "[wR]"
      ]
     },
     "execution_count": 18,
     "metadata": {},
     "output_type": "execute_result"
    }
   ],
   "source": [
    "core.w"
   ]
  },
  {
   "cell_type": "markdown",
   "metadata": {},
   "source": [
    "and the dissipation function is given by `zR` only:"
   ]
  },
  {
   "cell_type": "code",
   "execution_count": 19,
   "metadata": {
    "collapsed": false
   },
   "outputs": [
    {
     "data": {
      "text/plain": [
       "[R*wR]"
      ]
     },
     "execution_count": 19,
     "metadata": {},
     "output_type": "execute_result"
    }
   ],
   "source": [
    "core.z"
   ]
  },
  {
   "cell_type": "markdown",
   "metadata": {},
   "source": [
    "### the `core.add_ports` method\n",
    "To include an external port to a `PHSCore` object, we make use of the `core.add_ports` method. Below, we define the external port with input $u=v_{\\mathrm{out}}$ and output $y=i_{\\mathrm{out}}$ (notice the symbols do not reflect the actual physical meaning of $u$ and $y$):"
   ]
  },
  {
   "cell_type": "code",
   "execution_count": 20,
   "metadata": {
    "collapsed": true
   },
   "outputs": [],
   "source": [
    "u, y = core.symbols(['vout', 'iout']) # define sympy symbols\n",
    "core.add_ports(u, y)                  # add the port to the `core` object"
   ]
  },
  {
   "cell_type": "code",
   "execution_count": 21,
   "metadata": {
    "collapsed": false
   },
   "outputs": [
    {
     "data": {
      "text/plain": [
       "[vout]"
      ]
     },
     "execution_count": 21,
     "metadata": {},
     "output_type": "execute_result"
    }
   ],
   "source": [
    "core.u"
   ]
  },
  {
   "cell_type": "code",
   "execution_count": 22,
   "metadata": {
    "collapsed": false
   },
   "outputs": [
    {
     "data": {
      "text/plain": [
       "[iout]"
      ]
     },
     "execution_count": 22,
     "metadata": {},
     "output_type": "execute_result"
    }
   ],
   "source": [
    "core.y"
   ]
  },
  {
   "cell_type": "markdown",
   "metadata": {
    "collapsed": false
   },
   "source": [
    "## 4. Defining the interconnection structure\n",
    "The interconnection structure of a PHS is defined by the matrix $\\mathbf M$ structured as $$\\mathbf M = \\mathbf J- \\mathbf R,$$ where \n",
    "* the skew-symmetric matrix $\\mathbf J = \\frac{1}{2}\\left(\\mathbf M- \\mathbf M^\\intercal\\right) $ encodes the *conservative interconnection*, and \n",
    "* the symmetric positive definite matrix $\\mathbf R = \\frac{-1}{2}\\left(\\mathbf M + \\mathbf M^\\intercal\\right)$ encodes the *dissipative interconnection*.\n",
    "\n",
    "These matrices are decomposed in blocks as follows:\n",
    "$$\\mathbf M = \\left( \n",
    "\\begin{array}{lll}\n",
    "\\mathbf M_{\\mathrm{xx}} & \\mathbf M_{\\mathrm{xw}} & \\mathbf M_{\\mathrm{xy}} \\\\\n",
    "\\mathbf M_{\\mathrm{wx}} & \\mathbf M_{\\mathrm{ww}} & \\mathbf M_{\\mathrm{wy}} \\\\\n",
    "\\mathbf M_{\\mathrm{yx}} & \\mathbf M_{\\mathrm{ww}} & \\mathbf M_{\\mathrm{yy}} \\\\\n",
    "\\end{array}\\right), \n",
    "$$\n",
    "$$\n",
    "\\mathbf J = \\left( \n",
    "\\begin{array}{lll}\n",
    "\\mathbf J_{\\mathrm{xx}} & \\mathbf J_{\\mathrm{xw}} & \\mathbf J_{\\mathrm{xy}} \\\\\n",
    "\\mathbf J_{\\mathrm{wx}} & \\mathbf J_{\\mathrm{ww}} & \\mathbf J_{\\mathrm{wy}} \\\\\n",
    "\\mathbf J_{\\mathrm{yx}} & \\mathbf J_{\\mathrm{ww}} & \\mathbf J_{\\mathrm{yy}} \\\\\n",
    "\\end{array}\\right), \\quad\\mathbf R = \\left( \n",
    "\\begin{array}{lll}\n",
    "\\mathbf R_{\\mathrm{xx}} & \\mathbf R_{\\mathrm{xw}} & \\mathbf R_{\\mathrm{xy}} \\\\\n",
    "\\mathbf R_{\\mathrm{wx}} & \\mathbf R_{\\mathrm{ww}} & \\mathbf R_{\\mathrm{wy}} \\\\\n",
    "\\mathbf R_{\\mathrm{yx}} & \\mathbf R_{\\mathrm{ww}} & \\mathbf R_{\\mathrm{yy}} \\\\\n",
    "\\end{array}\\right).$$\n",
    "\n",
    "For the above description of the RLC circuit, the matrices are $$\\mathbf M = \\mathbf J = \\left(\\begin{array}{cc|c|c}\n",
    "0 & -1 & -1 & -1\\\\ \n",
    "1 & 0 & 0 & 0 \\\\ \\hline\n",
    "1 & 0 & 0 & 0 \\\\  \\hline\n",
    "1 & 0 & 0 & 0\n",
    "\\end{array}\\right),$$ \n",
    "that is, $\\mathbf R=0$. \n",
    "\n",
    "> Notice `core.M` only is an attribute, all other matrices are accessed with *getters* (e.g. `core.J()`, `core.Jxx()`, `core.Rxy()`, `core.Mwy()`) and *setters* (e.g. `core.set_J()`, `core.set_Jxx()`, `core.set_Rxy()`, `core.set_Mwy()`).\n",
    "\n",
    "First, we initialize the matrix $\\mathbf M$ with zeros:"
   ]
  },
  {
   "cell_type": "code",
   "execution_count": 23,
   "metadata": {
    "collapsed": false
   },
   "outputs": [
    {
     "data": {
      "text/plain": [
       "Matrix([\n",
       "[0, 0, 0, 0],\n",
       "[0, 0, 0, 0],\n",
       "[0, 0, 0, 0],\n",
       "[0, 0, 0, 0]])"
      ]
     },
     "execution_count": 23,
     "metadata": {},
     "output_type": "execute_result"
    }
   ],
   "source": [
    "core.init_M()\n",
    "\n",
    "core.M"
   ]
  },
  {
   "cell_type": "markdown",
   "metadata": {},
   "source": [
    "The structure matrices can defined as 2-dimensional `numpy.array`, Python `list()` or `sympy.Matrix`:"
   ]
  },
  {
   "cell_type": "code",
   "execution_count": 24,
   "metadata": {
    "collapsed": false
   },
   "outputs": [
    {
     "data": {
      "text/plain": [
       "Matrix([\n",
       "[0, -1, 0, 0],\n",
       "[1,  0, 0, 0],\n",
       "[0,  0, 0, 0],\n",
       "[0,  0, 0, 0]])"
      ]
     },
     "execution_count": 24,
     "metadata": {},
     "output_type": "execute_result"
    }
   ],
   "source": [
    "Mxx = numpy.array([[0, -1],\n",
    "                   [1, 0]])\n",
    "core.M[:2, :2] = Mxx\n",
    "\n",
    "core.M"
   ]
  },
  {
   "cell_type": "code",
   "execution_count": 25,
   "metadata": {
    "collapsed": false
   },
   "outputs": [
    {
     "data": {
      "text/plain": [
       "Matrix([\n",
       "[0, -1, -1, 0],\n",
       "[1,  0,  0, 0],\n",
       "[1,  0,  0, 0],\n",
       "[0,  0,  0, 0]])"
      ]
     },
     "execution_count": 25,
     "metadata": {},
     "output_type": "execute_result"
    }
   ],
   "source": [
    "Jxw = [[-1],\n",
    "       [0]]\n",
    "core.set_Jxw(Jxw)\n",
    "\n",
    "core.M"
   ]
  },
  {
   "cell_type": "markdown",
   "metadata": {},
   "source": [
    "> Notice the skew-symmetry (respectively symmetry) of $\\mathbf J$ (respectively $\\mathbf R$) is preserved with the *setters* `core.set_Jab` (respectively `core.set_Rab`), for $\\mathtt{a, b}$ in $(\\mathrm{x, w, y})^2$. Above, $\\mathbf{J}_{\\mathrm{wx}}=-\\mathbf{J}_{\\mathrm{xw}}^{\\intercal}$ has been automatically updated."
   ]
  },
  {
   "cell_type": "code",
   "execution_count": 26,
   "metadata": {
    "collapsed": false
   },
   "outputs": [
    {
     "data": {
      "text/plain": [
       "Matrix([\n",
       "[0, -1, -1, -1],\n",
       "[1,  0,  0,  0],\n",
       "[1,  0,  0,  0],\n",
       "[1,  0,  0,  0]])"
      ]
     },
     "execution_count": 26,
     "metadata": {},
     "output_type": "execute_result"
    }
   ],
   "source": [
    "Jxy = sympy.Matrix([[-1],\n",
    "                    [0]])\n",
    "core.set_Jxy(Jxy)\n",
    "\n",
    "core.M"
   ]
  },
  {
   "cell_type": "markdown",
   "metadata": {},
   "source": [
    "Then, the structure matrices are accessed as follows."
   ]
  },
  {
   "cell_type": "code",
   "execution_count": 27,
   "metadata": {
    "collapsed": false
   },
   "outputs": [
    {
     "data": {
      "text/plain": [
       "Matrix([\n",
       "[0, -1, -1, -1],\n",
       "[1,  0,  0,  0],\n",
       "[1,  0,  0,  0],\n",
       "[1,  0,  0,  0]])"
      ]
     },
     "execution_count": 27,
     "metadata": {},
     "output_type": "execute_result"
    }
   ],
   "source": [
    "core.M"
   ]
  },
  {
   "cell_type": "code",
   "execution_count": 28,
   "metadata": {
    "collapsed": false
   },
   "outputs": [
    {
     "data": {
      "text/plain": [
       "Matrix([\n",
       "[  0, -1.0, -1.0, -1.0],\n",
       "[1.0,    0,    0,    0],\n",
       "[1.0,    0,    0,    0],\n",
       "[1.0,    0,    0,    0]])"
      ]
     },
     "execution_count": 28,
     "metadata": {},
     "output_type": "execute_result"
    }
   ],
   "source": [
    "core.J()"
   ]
  },
  {
   "cell_type": "code",
   "execution_count": 29,
   "metadata": {
    "collapsed": false
   },
   "outputs": [
    {
     "data": {
      "text/plain": [
       "Matrix([\n",
       "[  0, -1.0],\n",
       "[1.0,    0]])"
      ]
     },
     "execution_count": 29,
     "metadata": {},
     "output_type": "execute_result"
    }
   ],
   "source": [
    "core.Jxx()"
   ]
  },
  {
   "cell_type": "markdown",
   "metadata": {},
   "source": [
    "Check for skew-symmetry:"
   ]
  },
  {
   "cell_type": "code",
   "execution_count": 30,
   "metadata": {
    "collapsed": false
   },
   "outputs": [
    {
     "data": {
      "text/plain": [
       "Matrix([\n",
       "[0],\n",
       "[0]])"
      ]
     },
     "execution_count": 30,
     "metadata": {},
     "output_type": "execute_result"
    }
   ],
   "source": [
    "core.Jxw() + core.Jwx().T"
   ]
  },
  {
   "cell_type": "markdown",
   "metadata": {},
   "source": [
    "The matrix $\\mathbf R$ is still zeros:"
   ]
  },
  {
   "cell_type": "code",
   "execution_count": 31,
   "metadata": {
    "collapsed": false
   },
   "outputs": [
    {
     "data": {
      "text/plain": [
       "Matrix([\n",
       "[0, 0, 0, 0],\n",
       "[0, 0, 0, 0],\n",
       "[0, 0, 0, 0],\n",
       "[0, 0, 0, 0]])"
      ]
     },
     "execution_count": 31,
     "metadata": {},
     "output_type": "execute_result"
    }
   ],
   "source": [
    "core.R()"
   ]
  },
  {
   "cell_type": "markdown",
   "metadata": {},
   "source": [
    "### The `core.build_R` method\n",
    "The resistive structure $\\mathbf R$ associated with linear dissipative components can be automatically derived as follows:"
   ]
  },
  {
   "cell_type": "code",
   "execution_count": 32,
   "metadata": {
    "collapsed": false
   },
   "outputs": [
    {
     "data": {
      "text/plain": [
       "Matrix([\n",
       "[1.0*R, 0, 0],\n",
       "[    0, 0, 0],\n",
       "[    0, 0, 0]])"
      ]
     },
     "execution_count": 32,
     "metadata": {},
     "output_type": "execute_result"
    }
   ],
   "source": [
    "core.build_R()\n",
    "core.R()"
   ]
  },
  {
   "cell_type": "markdown",
   "metadata": {},
   "source": [
    "## 5. Setting the physical parameters values\n",
    "The correspondence between the parameters symbols defined above (here `L`, `C` and `R`) and their actual value is stored in the python dictionary `core.subs`, with parameters symbols as the dictionary's keys and numerical values as the dictionary's values. Here, the physical parameters are\n",
    "* $L=500\\times 10^{-3}$H, \n",
    "* $C=5,066\\times 10^{-6}$F, \n",
    "* $C_{\\mathrm{nl}}=10^{8}$, \n",
    "* $R = 10^2\\Omega$.\n",
    "\n",
    "This is stored as follows:"
   ]
  },
  {
   "cell_type": "code",
   "execution_count": 38,
   "metadata": {
    "collapsed": false
   },
   "outputs": [],
   "source": [
    "# Physical parameters with f0 ~ (2*pi*sqrt(L*C))**-1\n",
    "F0 = 100.                               # 0.1 kH\n",
    "L_value = 5e-1                          # 500 mH\n",
    "C_value = (2*numpy.pi*F0)**-2/L_value   # 5.066 µF\n",
    "Cnl_value = 1e8                         # dimensionless\n",
    "R_value = 1e2                           # 100 Ohm\n",
    "\n",
    "subs = {L: L_value,\n",
    "        C: C_value,\n",
    "        Cnl: Cnl_value, \n",
    "        R: R_value}\n",
    "\n",
    "core.subs.update(subs)"
   ]
  },
  {
   "cell_type": "markdown",
   "metadata": {},
   "source": [
    "## 6: Generate the $\\LaTeX$ description\n",
    "A `.tex` file containing a description of the system can now be generated with the `core.texwrite` command as follows:"
   ]
  },
  {
   "cell_type": "markdown",
   "metadata": {},
   "source": [
    "## Bonus: Generate the $\\LaTeX$ description\n",
    "A `.tex` file containing a description of the system can now be generated with the `core.texwrite` command as follows:"
   ]
  },
  {
   "cell_type": "code",
   "execution_count": 34,
   "metadata": {
    "collapsed": true
   },
   "outputs": [],
   "source": [
    "core.texwrite(filename=None, title=None)"
   ]
  },
  {
   "cell_type": "markdown",
   "metadata": {},
   "source": [
    "A [core.tex](/pyphs_outputs/RLC/core.tex) has been generated, the compilation of which yields the following [core.pdf](/pyphs_outputs/RLC/core.pdf). A valid file name and/or a document title can be specified."
   ]
  }
 ],
 "metadata": {
  "kernelspec": {
   "display_name": "Python 2",
   "language": "python",
   "name": "python2"
  },
  "language_info": {
   "codemirror_mode": {
    "name": "ipython",
    "version": 2
   },
   "file_extension": ".py",
   "mimetype": "text/x-python",
   "name": "python",
   "nbconvert_exporter": "python",
   "pygments_lexer": "ipython2",
   "version": "2.7.12"
  }
 },
 "nbformat": 4,
 "nbformat_minor": 0
}
